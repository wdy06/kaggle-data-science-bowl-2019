{
 "cells": [
  {
   "cell_type": "code",
   "execution_count": 59,
   "metadata": {},
   "outputs": [
    {
     "name": "stdout",
     "output_type": "stream",
     "text": [
      "The autoreload extension is already loaded. To reload it, use:\n",
      "  %reload_ext autoreload\n"
     ]
    }
   ],
   "source": [
    "%load_ext autoreload\n",
    "%autoreload 2\n",
    "from IPython.core.interactiveshell import InteractiveShell\n",
    "InteractiveShell.ast_node_interactivity='all'"
   ]
  },
  {
   "cell_type": "code",
   "execution_count": 36,
   "metadata": {},
   "outputs": [],
   "source": [
    "import datetime\n",
    "import numpy as np\n",
    "import pandas as pd\n",
    "from pathlib import Path\n",
    "import json\n",
    "import matplotlib.pyplot as plt\n",
    "import seaborn as sns\n",
    "sns.set()\n",
    "import sys\n",
    "sys.path.append('../src')\n",
    "import pprint\n",
    "from tqdm import tqdm_notebook\n",
    "from time import time\n",
    "from lightgbm import LGBMClassifier\n",
    "from sklearn.model_selection import KFold\n",
    "\n",
    "from dataset import DSB2019Dataset\n"
   ]
  },
  {
   "cell_type": "code",
   "execution_count": 5,
   "metadata": {},
   "outputs": [],
   "source": [
    "train = DSB2019Dataset(mode='train')\n",
    "test = DSB2019Dataset(mode='test')"
   ]
  },
  {
   "cell_type": "code",
   "execution_count": 38,
   "metadata": {},
   "outputs": [],
   "source": [
    "from sklearn.metrics import confusion_matrix\n",
    "def qwk(act,pred,n=4,hist_range=(0,3)):\n",
    "    \n",
    "    O = confusion_matrix(act,pred)\n",
    "    O = np.divide(O,np.sum(O))\n",
    "    \n",
    "    W = np.zeros((n,n))\n",
    "    for i in range(n):\n",
    "        for j in range(n):\n",
    "            W[i][j] = ((i-j)**2)/((n-1)**2)\n",
    "            \n",
    "    act_hist = np.histogram(act,bins=n,range=hist_range)[0]\n",
    "    prd_hist = np.histogram(pred,bins=n,range=hist_range)[0]\n",
    "    \n",
    "    E = np.outer(act_hist,prd_hist)\n",
    "    E = np.divide(E,np.sum(E))\n",
    "    \n",
    "    num = np.sum(np.multiply(W,O))\n",
    "    den = np.sum(np.multiply(W,E))\n",
    "        \n",
    "    return 1-np.divide(num,den)\n",
    "    "
   ]
  },
  {
   "cell_type": "code",
   "execution_count": 6,
   "metadata": {},
   "outputs": [],
   "source": [
    "# encode title\n",
    "list_of_user_activities = list(set(train.main_df['title'].value_counts().index).union(set(test.main_df['title'].value_counts().index)))\n",
    "activities_map = dict(zip(list_of_user_activities, np.arange(len(list_of_user_activities))))\n",
    "\n",
    "train.main_df['title'] = train.main_df['title'].map(activities_map)\n",
    "test.main_df['title'] = test.main_df['title'].map(activities_map)\n",
    "train.train_labels['title'] = train.train_labels['title'].map(activities_map)"
   ]
  },
  {
   "cell_type": "code",
   "execution_count": 8,
   "metadata": {},
   "outputs": [
    {
     "data": {
      "text/plain": [
       "{'Chest Sorter (Assessment)': 0,\n",
       " 'Crystal Caves - Level 1': 1,\n",
       " 'Magma Peak - Level 1': 2,\n",
       " 'Bug Measurer (Activity)': 3,\n",
       " 'Watering Hole (Activity)': 4,\n",
       " 'Happy Camel': 5,\n",
       " 'Crystal Caves - Level 3': 6,\n",
       " 'Crystal Caves - Level 2': 7,\n",
       " 'Leaf Leader': 8,\n",
       " 'Fireworks (Activity)': 9,\n",
       " 'Treasure Map': 10,\n",
       " 'Mushroom Sorter (Assessment)': 11,\n",
       " 'Welcome to Lost Lagoon!': 12,\n",
       " 'Bubble Bath': 13,\n",
       " '12 Monkeys': 14,\n",
       " 'Bird Measurer (Assessment)': 15,\n",
       " 'Rulers': 16,\n",
       " 'Tree Top City - Level 1': 17,\n",
       " 'Scrub-A-Dub': 18,\n",
       " 'Air Show': 19,\n",
       " 'Tree Top City - Level 3': 20,\n",
       " 'All Star Sorting': 21,\n",
       " 'Honey Cake': 22,\n",
       " 'Magma Peak - Level 2': 23,\n",
       " 'Costume Box': 24,\n",
       " 'Heavy, Heavier, Heaviest': 25,\n",
       " 'Balancing Act': 26,\n",
       " 'Chicken Balancer (Activity)': 27,\n",
       " 'Crystals Rule': 28,\n",
       " 'Dino Drink': 29,\n",
       " 'Bottle Filler (Activity)': 30,\n",
       " 'Flower Waterer (Activity)': 31,\n",
       " 'Slop Problem': 32,\n",
       " 'Sandcastle Builder (Activity)': 33,\n",
       " 'Egg Dropper (Activity)': 34,\n",
       " \"Pirate's Tale\": 35,\n",
       " 'Chow Time': 36,\n",
       " 'Dino Dive': 37,\n",
       " 'Tree Top City - Level 2': 38,\n",
       " 'Cauldron Filler (Assessment)': 39,\n",
       " 'Cart Balancer (Assessment)': 40,\n",
       " 'Lifting Heavy Things': 41,\n",
       " 'Pan Balance': 42,\n",
       " 'Ordering Spheres': 43}"
      ]
     },
     "execution_count": 8,
     "metadata": {},
     "output_type": "execute_result"
    }
   ],
   "source": [
    "activities_map"
   ]
  },
  {
   "cell_type": "code",
   "execution_count": 10,
   "metadata": {},
   "outputs": [],
   "source": [
    "win_code = dict(zip(activities_map.values(), (4100*np.ones(len(activities_map))).astype('int')))\n",
    "win_code[activities_map['Bird Measurer (Assessment)']] = 4110"
   ]
  },
  {
   "cell_type": "code",
   "execution_count": 11,
   "metadata": {},
   "outputs": [
    {
     "data": {
      "text/plain": [
       "{0: 4100,\n",
       " 1: 4100,\n",
       " 2: 4100,\n",
       " 3: 4100,\n",
       " 4: 4100,\n",
       " 5: 4100,\n",
       " 6: 4100,\n",
       " 7: 4100,\n",
       " 8: 4100,\n",
       " 9: 4100,\n",
       " 10: 4100,\n",
       " 11: 4100,\n",
       " 12: 4100,\n",
       " 13: 4100,\n",
       " 14: 4100,\n",
       " 15: 4110,\n",
       " 16: 4100,\n",
       " 17: 4100,\n",
       " 18: 4100,\n",
       " 19: 4100,\n",
       " 20: 4100,\n",
       " 21: 4100,\n",
       " 22: 4100,\n",
       " 23: 4100,\n",
       " 24: 4100,\n",
       " 25: 4100,\n",
       " 26: 4100,\n",
       " 27: 4100,\n",
       " 28: 4100,\n",
       " 29: 4100,\n",
       " 30: 4100,\n",
       " 31: 4100,\n",
       " 32: 4100,\n",
       " 33: 4100,\n",
       " 34: 4100,\n",
       " 35: 4100,\n",
       " 36: 4100,\n",
       " 37: 4100,\n",
       " 38: 4100,\n",
       " 39: 4100,\n",
       " 40: 4100,\n",
       " 41: 4100,\n",
       " 42: 4100,\n",
       " 43: 4100}"
      ]
     },
     "execution_count": 11,
     "metadata": {},
     "output_type": "execute_result"
    }
   ],
   "source": [
    "win_code"
   ]
  },
  {
   "cell_type": "code",
   "execution_count": 12,
   "metadata": {},
   "outputs": [],
   "source": [
    "train.main_df['timestamp'] = pd.to_datetime(train.main_df['timestamp'])\n",
    "test.main_df['timestamp'] = pd.to_datetime(test.main_df['timestamp'])"
   ]
  },
  {
   "cell_type": "code",
   "execution_count": 13,
   "metadata": {},
   "outputs": [],
   "source": [
    "def get_data(user_sample, test_set=False):\n",
    "    last_activity = 0\n",
    "    user_activities_count = {'Clip':0, 'Activity': 0, 'Assessment': 0, 'Game':0}\n",
    "    accuracy_groups = {0:0, 1:0, 2:0, 3:0}\n",
    "    all_assessments = []\n",
    "    accumulated_accuracy_group = 0\n",
    "    accumulated_accuracy=0\n",
    "    accumulated_correct_attempts = 0 \n",
    "    accumulated_uncorrect_attempts = 0 \n",
    "    accumulated_actions = 0\n",
    "    counter = 0\n",
    "    durations = []\n",
    "    for i, session in user_sample.groupby('game_session', sort=False):\n",
    "        session_type = session['type'].iloc[0]\n",
    "        session_title = session['title'].iloc[0]\n",
    "        if test_set == True:\n",
    "            second_condition = True\n",
    "        else:\n",
    "            if len(session)>1:\n",
    "                second_condition = True\n",
    "            else:\n",
    "                second_condition= False\n",
    "            \n",
    "        if (session_type == 'Assessment') & (second_condition):\n",
    "            all_attempts = session.query(f'event_code == {win_code[session_title]}')\n",
    "            true_attempts = all_attempts['event_data'].str.contains('true').sum()\n",
    "            false_attempts = all_attempts['event_data'].str.contains('false').sum()\n",
    "            features = user_activities_count.copy()\n",
    "            features['session_title'] = session['title'].iloc[0] \n",
    "            features['accumulated_correct_attempts'] = accumulated_correct_attempts\n",
    "            features['accumulated_uncorrect_attempts'] = accumulated_uncorrect_attempts\n",
    "            accumulated_correct_attempts += true_attempts \n",
    "            accumulated_uncorrect_attempts += false_attempts\n",
    "            if durations == []:\n",
    "                features['duration_mean'] = 0\n",
    "            else:\n",
    "                features['duration_mean'] = np.mean(durations)\n",
    "            durations.append((session.iloc[-1, 2] - session.iloc[0, 2] ).seconds)\n",
    "            features['accumulated_accuracy'] = accumulated_accuracy/counter if counter > 0 else 0\n",
    "            accuracy = true_attempts/(true_attempts+false_attempts) if (true_attempts+false_attempts) != 0 else 0\n",
    "            accumulated_accuracy += accuracy\n",
    "            if accuracy == 0:\n",
    "                features['accuracy_group'] = 0\n",
    "            elif accuracy == 1:\n",
    "                features['accuracy_group'] = 3\n",
    "            elif accuracy == 0.5:\n",
    "                features['accuracy_group'] = 2\n",
    "            else:\n",
    "                features['accuracy_group'] = 1\n",
    "\n",
    "            features.update(accuracy_groups)\n",
    "            features['accumulated_accuracy_group'] = accumulated_accuracy_group/counter if counter > 0 else 0\n",
    "            features['accumulated_actions'] = accumulated_actions\n",
    "            accumulated_accuracy_group += features['accuracy_group']\n",
    "            accuracy_groups[features['accuracy_group']] += 1\n",
    "            if test_set == True:\n",
    "                all_assessments.append(features)\n",
    "            else:\n",
    "                if true_attempts+false_attempts > 0:\n",
    "                    all_assessments.append(features)\n",
    "                \n",
    "            counter += 1\n",
    "\n",
    "\n",
    "        accumulated_actions += len(session)\n",
    "        if last_activity != session_type:\n",
    "            user_activities_count[session_type] += 1\n",
    "            last_activitiy = session_type\n",
    "\n",
    "    if test_set:\n",
    "        return all_assessments[-1] \n",
    "    return all_assessments\n"
   ]
  },
  {
   "cell_type": "code",
   "execution_count": 21,
   "metadata": {},
   "outputs": [
    {
     "data": {
      "application/vnd.jupyter.widget-view+json": {
       "model_id": "69a68bcff53843f39bc41b1a8cd0182d",
       "version_major": 2,
       "version_minor": 0
      },
      "text/plain": [
       "HBox(children=(IntProgress(value=0, max=17000), HTML(value='')))"
      ]
     },
     "metadata": {},
     "output_type": "display_data"
    },
    {
     "name": "stderr",
     "output_type": "stream",
     "text": [
      "\n",
      "\n",
      " 19%|█▉        | 3262/17000 [00:53<03:47, 60.36it/s]\u001b[A\u001b[A"
     ]
    },
    {
     "name": "stdout",
     "output_type": "stream",
     "text": [
      "\n"
     ]
    }
   ],
   "source": [
    "compiled_data = []\n",
    "for i, (ins_id, user_sample) in tqdm_notebook(enumerate(train.main_df.groupby('installation_id', sort=False)), total=17000):\n",
    "    compiled_data += get_data(user_sample)"
   ]
  },
  {
   "cell_type": "code",
   "execution_count": 23,
   "metadata": {},
   "outputs": [
    {
     "data": {
      "text/plain": [
       "(17690, 16)"
      ]
     },
     "execution_count": 23,
     "metadata": {},
     "output_type": "execute_result"
    }
   ],
   "source": [
    "new_train = pd.DataFrame(compiled_data)\n",
    "del compiled_data\n",
    "new_train.shape"
   ]
  },
  {
   "cell_type": "code",
   "execution_count": 25,
   "metadata": {},
   "outputs": [
    {
     "data": {
      "text/html": [
       "<div>\n",
       "<style scoped>\n",
       "    .dataframe tbody tr th:only-of-type {\n",
       "        vertical-align: middle;\n",
       "    }\n",
       "\n",
       "    .dataframe tbody tr th {\n",
       "        vertical-align: top;\n",
       "    }\n",
       "\n",
       "    .dataframe thead th {\n",
       "        text-align: right;\n",
       "    }\n",
       "</style>\n",
       "<table border=\"1\" class=\"dataframe\">\n",
       "  <thead>\n",
       "    <tr style=\"text-align: right;\">\n",
       "      <th></th>\n",
       "      <th>Activity</th>\n",
       "      <th>Assessment</th>\n",
       "      <th>Clip</th>\n",
       "      <th>Game</th>\n",
       "      <th>accumulated_accuracy</th>\n",
       "      <th>accumulated_correct_attempts</th>\n",
       "      <th>accumulated_uncorrect_attempts</th>\n",
       "      <th>accuracy_group</th>\n",
       "      <th>duration_mean</th>\n",
       "      <th>session_title</th>\n",
       "      <th>0</th>\n",
       "      <th>1</th>\n",
       "      <th>2</th>\n",
       "      <th>3</th>\n",
       "      <th>accumulated_accuracy_group</th>\n",
       "      <th>accumulated_actions</th>\n",
       "    </tr>\n",
       "  </thead>\n",
       "  <tbody>\n",
       "    <tr>\n",
       "      <th>0</th>\n",
       "      <td>3</td>\n",
       "      <td>0</td>\n",
       "      <td>11</td>\n",
       "      <td>4</td>\n",
       "      <td>0.0</td>\n",
       "      <td>0</td>\n",
       "      <td>0</td>\n",
       "      <td>3</td>\n",
       "      <td>0.00</td>\n",
       "      <td>11</td>\n",
       "      <td>0</td>\n",
       "      <td>0</td>\n",
       "      <td>0</td>\n",
       "      <td>0</td>\n",
       "      <td>0.0</td>\n",
       "      <td>647</td>\n",
       "    </tr>\n",
       "    <tr>\n",
       "      <th>1</th>\n",
       "      <td>4</td>\n",
       "      <td>1</td>\n",
       "      <td>14</td>\n",
       "      <td>6</td>\n",
       "      <td>1.0</td>\n",
       "      <td>1</td>\n",
       "      <td>0</td>\n",
       "      <td>0</td>\n",
       "      <td>39.00</td>\n",
       "      <td>15</td>\n",
       "      <td>0</td>\n",
       "      <td>0</td>\n",
       "      <td>0</td>\n",
       "      <td>1</td>\n",
       "      <td>3.0</td>\n",
       "      <td>1143</td>\n",
       "    </tr>\n",
       "    <tr>\n",
       "      <th>2</th>\n",
       "      <td>4</td>\n",
       "      <td>2</td>\n",
       "      <td>14</td>\n",
       "      <td>6</td>\n",
       "      <td>0.5</td>\n",
       "      <td>1</td>\n",
       "      <td>11</td>\n",
       "      <td>3</td>\n",
       "      <td>65.50</td>\n",
       "      <td>11</td>\n",
       "      <td>1</td>\n",
       "      <td>0</td>\n",
       "      <td>0</td>\n",
       "      <td>1</td>\n",
       "      <td>1.5</td>\n",
       "      <td>1230</td>\n",
       "    </tr>\n",
       "    <tr>\n",
       "      <th>3</th>\n",
       "      <td>9</td>\n",
       "      <td>4</td>\n",
       "      <td>24</td>\n",
       "      <td>10</td>\n",
       "      <td>0.5</td>\n",
       "      <td>2</td>\n",
       "      <td>11</td>\n",
       "      <td>2</td>\n",
       "      <td>41.25</td>\n",
       "      <td>11</td>\n",
       "      <td>2</td>\n",
       "      <td>0</td>\n",
       "      <td>0</td>\n",
       "      <td>2</td>\n",
       "      <td>1.5</td>\n",
       "      <td>2159</td>\n",
       "    </tr>\n",
       "    <tr>\n",
       "      <th>4</th>\n",
       "      <td>10</td>\n",
       "      <td>5</td>\n",
       "      <td>28</td>\n",
       "      <td>13</td>\n",
       "      <td>0.5</td>\n",
       "      <td>3</td>\n",
       "      <td>12</td>\n",
       "      <td>3</td>\n",
       "      <td>39.20</td>\n",
       "      <td>15</td>\n",
       "      <td>2</td>\n",
       "      <td>0</td>\n",
       "      <td>1</td>\n",
       "      <td>2</td>\n",
       "      <td>1.6</td>\n",
       "      <td>2586</td>\n",
       "    </tr>\n",
       "  </tbody>\n",
       "</table>\n",
       "</div>"
      ],
      "text/plain": [
       "   Activity  Assessment  Clip  Game  accumulated_accuracy  \\\n",
       "0         3           0    11     4                   0.0   \n",
       "1         4           1    14     6                   1.0   \n",
       "2         4           2    14     6                   0.5   \n",
       "3         9           4    24    10                   0.5   \n",
       "4        10           5    28    13                   0.5   \n",
       "\n",
       "   accumulated_correct_attempts  accumulated_uncorrect_attempts  \\\n",
       "0                             0                               0   \n",
       "1                             1                               0   \n",
       "2                             1                              11   \n",
       "3                             2                              11   \n",
       "4                             3                              12   \n",
       "\n",
       "   accuracy_group  duration_mean  session_title  0  1  2  3  \\\n",
       "0               3           0.00             11  0  0  0  0   \n",
       "1               0          39.00             15  0  0  0  1   \n",
       "2               3          65.50             11  1  0  0  1   \n",
       "3               2          41.25             11  2  0  0  2   \n",
       "4               3          39.20             15  2  0  1  2   \n",
       "\n",
       "   accumulated_accuracy_group  accumulated_actions  \n",
       "0                         0.0                  647  \n",
       "1                         3.0                 1143  \n",
       "2                         1.5                 1230  \n",
       "3                         1.5                 2159  \n",
       "4                         1.6                 2586  "
      ]
     },
     "execution_count": 25,
     "metadata": {},
     "output_type": "execute_result"
    }
   ],
   "source": [
    "new_train.head()"
   ]
  },
  {
   "cell_type": "code",
   "execution_count": 26,
   "metadata": {},
   "outputs": [],
   "source": [
    "all_features = [x for x in new_train.columns if x not in ['accuracy_group']]\n",
    "cat_features = ['session_title']\n",
    "X, y = new_train[all_features], new_train['accuracy_group']"
   ]
  },
  {
   "cell_type": "code",
   "execution_count": 28,
   "metadata": {},
   "outputs": [],
   "source": [
    "default_param = {\n",
    "        'nthread': -1,\n",
    "        'n_estimators': 10000,\n",
    "        'learning_rate': 0.1,\n",
    "        'num_leaves': 34,\n",
    "        'colsample_bytree': 0.9497036,\n",
    "        'subsample': 0.8715623,\n",
    "        'max_depth': 8,\n",
    "        'reg_alpha': 0.041545473,\n",
    "        'reg_lambda': 0.0735294,\n",
    "        'min_split_gain': 0.0222415,\n",
    "        'min_child_weight': 39.3259775,\n",
    "        'silent': -1,\n",
    "        'verbose': -1,\n",
    "        'device': 'gpu',\n",
    "        'gpu_platform_id': 0,\n",
    "        'gpu_device_id': 0,\n",
    "        'random_state': 2019,\n",
    "    }"
   ]
  },
  {
   "cell_type": "code",
   "execution_count": 39,
   "metadata": {},
   "outputs": [
    {
     "name": "stdout",
     "output_type": "stream",
     "text": [
      "Training on fold 1\n"
     ]
    },
    {
     "name": "stderr",
     "output_type": "stream",
     "text": [
      "/opt/conda/lib/python3.7/site-packages/lightgbm/basic.py:1250: UserWarning: categorical_feature in Dataset is overridden.\n",
      "New categorical_feature is ['session_title']\n",
      "  'New categorical_feature is {}'.format(sorted(list(categorical_feature))))\n",
      "/opt/conda/lib/python3.7/site-packages/lightgbm/basic.py:1250: UserWarning: categorical_feature in Dataset is overridden.\n",
      "New categorical_feature is ['session_title']\n",
      "  'New categorical_feature is {}'.format(sorted(list(categorical_feature))))\n"
     ]
    },
    {
     "name": "stdout",
     "output_type": "stream",
     "text": [
      "Training until validation scores don't improve for 100 rounds.\n",
      "[100]\tvalid_0's multi_logloss: 1.04576\n",
      "Early stopping, best iteration is:\n",
      "[51]\tvalid_0's multi_logloss: 1.04191\n"
     ]
    },
    {
     "data": {
      "text/plain": [
       "LGBMClassifier(boosting_type='gbdt', class_weight=None,\n",
       "        colsample_bytree=0.9497036, device='gpu', gpu_device_id=0,\n",
       "        gpu_platform_id=0, importance_type='split', learning_rate=0.1,\n",
       "        max_depth=8, min_child_samples=20, min_child_weight=39.3259775,\n",
       "        min_split_gain=0.0222415, n_estimators=10000, n_jobs=-1,\n",
       "        nthread=-1, num_leaves=34, objective=None, random_state=2019,\n",
       "        reg_alpha=0.041545473, reg_lambda=0.0735294, silent=-1,\n",
       "        subsample=0.8715623, subsample_for_bin=200000, subsample_freq=0,\n",
       "        verbose=-1)"
      ]
     },
     "execution_count": 39,
     "metadata": {},
     "output_type": "execute_result"
    },
    {
     "name": "stdout",
     "output_type": "stream",
     "text": [
      "Fold 1 finished in 0:00:05.342772\n",
      "Training on fold 2\n"
     ]
    },
    {
     "name": "stderr",
     "output_type": "stream",
     "text": [
      "/opt/conda/lib/python3.7/site-packages/lightgbm/basic.py:1250: UserWarning: categorical_feature in Dataset is overridden.\n",
      "New categorical_feature is ['session_title']\n",
      "  'New categorical_feature is {}'.format(sorted(list(categorical_feature))))\n",
      "/opt/conda/lib/python3.7/site-packages/lightgbm/basic.py:1250: UserWarning: categorical_feature in Dataset is overridden.\n",
      "New categorical_feature is ['session_title']\n",
      "  'New categorical_feature is {}'.format(sorted(list(categorical_feature))))\n"
     ]
    },
    {
     "name": "stdout",
     "output_type": "stream",
     "text": [
      "Training until validation scores don't improve for 100 rounds.\n",
      "[100]\tvalid_0's multi_logloss: 1.04431\n",
      "Early stopping, best iteration is:\n",
      "[59]\tvalid_0's multi_logloss: 1.04255\n"
     ]
    },
    {
     "data": {
      "text/plain": [
       "LGBMClassifier(boosting_type='gbdt', class_weight=None,\n",
       "        colsample_bytree=0.9497036, device='gpu', gpu_device_id=0,\n",
       "        gpu_platform_id=0, importance_type='split', learning_rate=0.1,\n",
       "        max_depth=8, min_child_samples=20, min_child_weight=39.3259775,\n",
       "        min_split_gain=0.0222415, n_estimators=10000, n_jobs=-1,\n",
       "        nthread=-1, num_leaves=34, objective=None, random_state=2019,\n",
       "        reg_alpha=0.041545473, reg_lambda=0.0735294, silent=-1,\n",
       "        subsample=0.8715623, subsample_for_bin=200000, subsample_freq=0,\n",
       "        verbose=-1)"
      ]
     },
     "execution_count": 39,
     "metadata": {},
     "output_type": "execute_result"
    },
    {
     "name": "stdout",
     "output_type": "stream",
     "text": [
      "Fold 2 finished in 0:00:05.149764\n",
      "Training on fold 3\n"
     ]
    },
    {
     "name": "stderr",
     "output_type": "stream",
     "text": [
      "/opt/conda/lib/python3.7/site-packages/lightgbm/basic.py:1250: UserWarning: categorical_feature in Dataset is overridden.\n",
      "New categorical_feature is ['session_title']\n",
      "  'New categorical_feature is {}'.format(sorted(list(categorical_feature))))\n",
      "/opt/conda/lib/python3.7/site-packages/lightgbm/basic.py:1250: UserWarning: categorical_feature in Dataset is overridden.\n",
      "New categorical_feature is ['session_title']\n",
      "  'New categorical_feature is {}'.format(sorted(list(categorical_feature))))\n"
     ]
    },
    {
     "name": "stdout",
     "output_type": "stream",
     "text": [
      "Training until validation scores don't improve for 100 rounds.\n",
      "[100]\tvalid_0's multi_logloss: 1.01512\n",
      "Early stopping, best iteration is:\n",
      "[84]\tvalid_0's multi_logloss: 1.01413\n"
     ]
    },
    {
     "data": {
      "text/plain": [
       "LGBMClassifier(boosting_type='gbdt', class_weight=None,\n",
       "        colsample_bytree=0.9497036, device='gpu', gpu_device_id=0,\n",
       "        gpu_platform_id=0, importance_type='split', learning_rate=0.1,\n",
       "        max_depth=8, min_child_samples=20, min_child_weight=39.3259775,\n",
       "        min_split_gain=0.0222415, n_estimators=10000, n_jobs=-1,\n",
       "        nthread=-1, num_leaves=34, objective=None, random_state=2019,\n",
       "        reg_alpha=0.041545473, reg_lambda=0.0735294, silent=-1,\n",
       "        subsample=0.8715623, subsample_for_bin=200000, subsample_freq=0,\n",
       "        verbose=-1)"
      ]
     },
     "execution_count": 39,
     "metadata": {},
     "output_type": "execute_result"
    },
    {
     "name": "stdout",
     "output_type": "stream",
     "text": [
      "Fold 3 finished in 0:00:06.257085\n",
      "Training on fold 4\n"
     ]
    },
    {
     "name": "stderr",
     "output_type": "stream",
     "text": [
      "/opt/conda/lib/python3.7/site-packages/lightgbm/basic.py:1250: UserWarning: categorical_feature in Dataset is overridden.\n",
      "New categorical_feature is ['session_title']\n",
      "  'New categorical_feature is {}'.format(sorted(list(categorical_feature))))\n",
      "/opt/conda/lib/python3.7/site-packages/lightgbm/basic.py:1250: UserWarning: categorical_feature in Dataset is overridden.\n",
      "New categorical_feature is ['session_title']\n",
      "  'New categorical_feature is {}'.format(sorted(list(categorical_feature))))\n"
     ]
    },
    {
     "name": "stdout",
     "output_type": "stream",
     "text": [
      "Training until validation scores don't improve for 100 rounds.\n",
      "[100]\tvalid_0's multi_logloss: 0.98826\n",
      "Early stopping, best iteration is:\n",
      "[59]\tvalid_0's multi_logloss: 0.986697\n"
     ]
    },
    {
     "data": {
      "text/plain": [
       "LGBMClassifier(boosting_type='gbdt', class_weight=None,\n",
       "        colsample_bytree=0.9497036, device='gpu', gpu_device_id=0,\n",
       "        gpu_platform_id=0, importance_type='split', learning_rate=0.1,\n",
       "        max_depth=8, min_child_samples=20, min_child_weight=39.3259775,\n",
       "        min_split_gain=0.0222415, n_estimators=10000, n_jobs=-1,\n",
       "        nthread=-1, num_leaves=34, objective=None, random_state=2019,\n",
       "        reg_alpha=0.041545473, reg_lambda=0.0735294, silent=-1,\n",
       "        subsample=0.8715623, subsample_for_bin=200000, subsample_freq=0,\n",
       "        verbose=-1)"
      ]
     },
     "execution_count": 39,
     "metadata": {},
     "output_type": "execute_result"
    },
    {
     "name": "stdout",
     "output_type": "stream",
     "text": [
      "Fold 4 finished in 0:00:05.453253\n",
      "Training on fold 5\n"
     ]
    },
    {
     "name": "stderr",
     "output_type": "stream",
     "text": [
      "/opt/conda/lib/python3.7/site-packages/lightgbm/basic.py:1250: UserWarning: categorical_feature in Dataset is overridden.\n",
      "New categorical_feature is ['session_title']\n",
      "  'New categorical_feature is {}'.format(sorted(list(categorical_feature))))\n",
      "/opt/conda/lib/python3.7/site-packages/lightgbm/basic.py:1250: UserWarning: categorical_feature in Dataset is overridden.\n",
      "New categorical_feature is ['session_title']\n",
      "  'New categorical_feature is {}'.format(sorted(list(categorical_feature))))\n"
     ]
    },
    {
     "name": "stdout",
     "output_type": "stream",
     "text": [
      "Training until validation scores don't improve for 100 rounds.\n",
      "[100]\tvalid_0's multi_logloss: 1.03385\n",
      "Early stopping, best iteration is:\n",
      "[56]\tvalid_0's multi_logloss: 1.03083\n"
     ]
    },
    {
     "data": {
      "text/plain": [
       "LGBMClassifier(boosting_type='gbdt', class_weight=None,\n",
       "        colsample_bytree=0.9497036, device='gpu', gpu_device_id=0,\n",
       "        gpu_platform_id=0, importance_type='split', learning_rate=0.1,\n",
       "        max_depth=8, min_child_samples=20, min_child_weight=39.3259775,\n",
       "        min_split_gain=0.0222415, n_estimators=10000, n_jobs=-1,\n",
       "        nthread=-1, num_leaves=34, objective=None, random_state=2019,\n",
       "        reg_alpha=0.041545473, reg_lambda=0.0735294, silent=-1,\n",
       "        subsample=0.8715623, subsample_for_bin=200000, subsample_freq=0,\n",
       "        verbose=-1)"
      ]
     },
     "execution_count": 39,
     "metadata": {},
     "output_type": "execute_result"
    },
    {
     "name": "stdout",
     "output_type": "stream",
     "text": [
      "Fold 5 finished in 0:00:05.591708\n",
      "------------------------------\n",
      "OOF QWK: 0.5086208560742616\n",
      "------------------------------\n"
     ]
    }
   ],
   "source": [
    "oof = np.zeros(len(X))\n",
    "NFOLDS = 5\n",
    "folds = KFold(n_splits=NFOLDS, shuffle=True, random_state=2019)\n",
    "\n",
    "training_start_time = time()\n",
    "for fold, (trn_idx, test_idx) in enumerate(folds.split(X, y)):\n",
    "    start_time = time()\n",
    "    print(f'Training on fold {fold+1}')\n",
    "    clf = LGBMClassifier(**default_param)\n",
    "    clf.fit(X.loc[trn_idx, all_features], y.loc[trn_idx], eval_set=(X.loc[test_idx, all_features], y.loc[test_idx]),\n",
    "            verbose=100, early_stopping_rounds=100, \n",
    "            categorical_feature=cat_features)\n",
    "    \n",
    "    oof[test_idx] = clf.predict(X.loc[test_idx, all_features], num_iteration=clf.best_iteration_).reshape(len(test_idx))\n",
    "    \n",
    "    print('Fold {} finished in {}'.format(fold + 1, str(datetime.timedelta(seconds=time() - start_time))))\n",
    "    \n",
    "print('-' * 30)\n",
    "print('OOF QWK:', qwk(y, oof))\n",
    "print('-' * 30)"
   ]
  },
  {
   "cell_type": "code",
   "execution_count": 52,
   "metadata": {},
   "outputs": [
    {
     "name": "stderr",
     "output_type": "stream",
     "text": [
      "/opt/conda/lib/python3.7/site-packages/lightgbm/basic.py:1250: UserWarning: categorical_feature in Dataset is overridden.\n",
      "New categorical_feature is ['session_title']\n",
      "  'New categorical_feature is {}'.format(sorted(list(categorical_feature))))\n"
     ]
    },
    {
     "data": {
      "text/plain": [
       "LGBMClassifier(boosting_type='gbdt', class_weight=None,\n",
       "        colsample_bytree=0.9497036, device='gpu', gpu_device_id=0,\n",
       "        gpu_platform_id=0, importance_type='split', learning_rate=0.1,\n",
       "        max_depth=8, min_child_samples=20, min_child_weight=39.3259775,\n",
       "        min_split_gain=0.0222415, n_estimators=10000, n_jobs=-1,\n",
       "        nthread=-1, num_leaves=34, objective=None, random_state=2019,\n",
       "        reg_alpha=0.041545473, reg_lambda=0.0735294, silent=-1,\n",
       "        subsample=0.8715623, subsample_for_bin=200000, subsample_freq=0,\n",
       "        verbose=-1)"
      ]
     },
     "execution_count": 52,
     "metadata": {},
     "output_type": "execute_result"
    }
   ],
   "source": [
    "# train model on all data once\n",
    "clf = LGBMClassifier(**default_param)\n",
    "clf.fit(X, y, verbose=100,categorical_feature=cat_features)"
   ]
  },
  {
   "cell_type": "code",
   "execution_count": 43,
   "metadata": {},
   "outputs": [
    {
     "name": "stderr",
     "output_type": "stream",
     "text": [
      "\n",
      "\n",
      "\n",
      "  0%|          | 0/1000 [00:00<?, ?it/s]\u001b[A\u001b[A\u001b[A\n",
      "\n",
      "\n",
      "  0%|          | 1/1000 [00:01<19:05,  1.15s/it]\u001b[A\u001b[A\u001b[A\n",
      "\n",
      "\n",
      "  1%|          | 8/1000 [00:01<13:21,  1.24it/s]\u001b[A\u001b[A\u001b[A\n",
      "\n",
      "\n",
      "  2%|▏         | 18/1000 [00:01<09:18,  1.76it/s]\u001b[A\u001b[A\u001b[A\n",
      "\n",
      "\n",
      "  2%|▏         | 24/1000 [00:01<06:36,  2.46it/s]\u001b[A\u001b[A\u001b[A\n",
      "\n",
      "\n",
      "  3%|▎         | 31/1000 [00:01<04:42,  3.43it/s]\u001b[A\u001b[A\u001b[A\n",
      "\n",
      "\n",
      "  4%|▎         | 37/1000 [00:01<03:21,  4.77it/s]\u001b[A\u001b[A\u001b[A\n",
      "\n",
      "\n",
      "  4%|▍         | 42/1000 [00:02<02:37,  6.08it/s]\u001b[A\u001b[A\u001b[A\n",
      "\n",
      "\n",
      "  5%|▍         | 49/1000 [00:02<01:53,  8.36it/s]\u001b[A\u001b[A\u001b[A\n",
      "\n",
      "\n",
      "  6%|▌         | 56/1000 [00:02<01:25, 10.99it/s]\u001b[A\u001b[A\u001b[A\n",
      "\n",
      "\n",
      "  6%|▋         | 63/1000 [00:02<01:04, 14.59it/s]\u001b[A\u001b[A\u001b[A\n",
      "\n",
      "\n",
      "  7%|▋         | 69/1000 [00:02<00:49, 18.82it/s]\u001b[A\u001b[A\u001b[A\n",
      "\n",
      "\n",
      "  8%|▊         | 75/1000 [00:02<00:44, 20.83it/s]\u001b[A\u001b[A\u001b[A\n",
      "\n",
      "\n",
      "  8%|▊         | 81/1000 [00:02<00:36, 25.15it/s]\u001b[A\u001b[A\u001b[A\n",
      "\n",
      "\n",
      "  9%|▉         | 89/1000 [00:03<00:30, 29.81it/s]\u001b[A\u001b[A\u001b[A\n",
      "\n",
      "\n",
      " 10%|▉         | 96/1000 [00:03<00:25, 35.38it/s]\u001b[A\u001b[A\u001b[A\n",
      "\n",
      "\n",
      " 10%|█         | 102/1000 [00:03<00:25, 35.11it/s]\u001b[A\u001b[A\u001b[A\n",
      "\n",
      "\n",
      " 11%|█         | 110/1000 [00:03<00:21, 41.83it/s]\u001b[A\u001b[A\u001b[A\n",
      "\n",
      "\n",
      " 12%|█▏        | 120/1000 [00:03<00:19, 45.03it/s]\u001b[A\u001b[A\u001b[A\n",
      "\n",
      "\n",
      " 13%|█▎        | 126/1000 [00:03<00:18, 48.07it/s]\u001b[A\u001b[A\u001b[A\n",
      "\n",
      "\n",
      " 13%|█▎        | 133/1000 [00:03<00:16, 51.37it/s]\u001b[A\u001b[A\u001b[A\n",
      "\n",
      "\n",
      " 14%|█▍        | 139/1000 [00:03<00:16, 52.46it/s]\u001b[A\u001b[A\u001b[A\n",
      "\n",
      "\n",
      " 15%|█▍        | 147/1000 [00:04<00:14, 57.12it/s]\u001b[A\u001b[A\u001b[A\n",
      "\n",
      "\n",
      " 15%|█▌        | 154/1000 [00:04<00:15, 53.69it/s]\u001b[A\u001b[A\u001b[A\n",
      "\n",
      "\n",
      " 16%|█▌        | 161/1000 [00:04<00:14, 57.61it/s]\u001b[A\u001b[A\u001b[A\n",
      "\n",
      "\n",
      " 17%|█▋        | 168/1000 [00:04<00:15, 53.32it/s]\u001b[A\u001b[A\u001b[A\n",
      "\n",
      "\n",
      " 17%|█▋        | 174/1000 [00:04<00:14, 55.10it/s]\u001b[A\u001b[A\u001b[A\n",
      "\n",
      "\n",
      " 18%|█▊        | 180/1000 [00:04<00:17, 47.84it/s]\u001b[A\u001b[A\u001b[A\n",
      "\n",
      "\n",
      " 19%|█▊        | 186/1000 [00:05<00:24, 33.49it/s]\u001b[A\u001b[A\u001b[A\n",
      "\n",
      "\n",
      " 19%|█▉        | 191/1000 [00:05<00:24, 32.92it/s]\u001b[A\u001b[A\u001b[A\n",
      "\n",
      "\n",
      " 20%|█▉        | 199/1000 [00:05<00:20, 39.11it/s]\u001b[A\u001b[A\u001b[A\n",
      "\n",
      "\n",
      " 21%|██        | 206/1000 [00:05<00:18, 42.81it/s]\u001b[A\u001b[A\u001b[A\n",
      "\n",
      "\n",
      " 21%|██        | 212/1000 [00:05<00:17, 45.03it/s]\u001b[A\u001b[A\u001b[A\n",
      "\n",
      "\n",
      " 22%|██▏       | 219/1000 [00:05<00:15, 49.57it/s]\u001b[A\u001b[A\u001b[A\n",
      "\n",
      "\n",
      " 23%|██▎       | 226/1000 [00:05<00:15, 50.04it/s]\u001b[A\u001b[A\u001b[A\n",
      "\n",
      "\n",
      " 23%|██▎       | 232/1000 [00:05<00:15, 49.33it/s]\u001b[A\u001b[A\u001b[A\n",
      "\n",
      "\n",
      " 24%|██▍       | 238/1000 [00:06<00:15, 47.82it/s]\u001b[A\u001b[A\u001b[A\n",
      "\n",
      "\n",
      " 24%|██▍       | 243/1000 [00:06<00:17, 43.14it/s]\u001b[A\u001b[A\u001b[A\n",
      "\n",
      "\n",
      " 25%|██▍       | 249/1000 [00:06<00:17, 42.57it/s]\u001b[A\u001b[A\u001b[A\n",
      "\n",
      "\n",
      " 26%|██▌       | 259/1000 [00:06<00:15, 49.17it/s]\u001b[A\u001b[A\u001b[A\n",
      "\n",
      "\n",
      " 26%|██▋       | 265/1000 [00:06<00:14, 49.05it/s]\u001b[A\u001b[A\u001b[A\n",
      "\n",
      "\n",
      " 27%|██▋       | 272/1000 [00:06<00:13, 53.27it/s]\u001b[A\u001b[A\u001b[A\n",
      "\n",
      "\n",
      " 28%|██▊       | 281/1000 [00:06<00:11, 60.32it/s]\u001b[A\u001b[A\u001b[A\n",
      "\n",
      "\n",
      " 29%|██▉       | 291/1000 [00:06<00:11, 63.04it/s]\u001b[A\u001b[A\u001b[A\n",
      "\n",
      "\n",
      " 30%|██▉       | 298/1000 [00:07<00:11, 60.34it/s]\u001b[A\u001b[A\u001b[A\n",
      "\n",
      "\n",
      " 30%|███       | 305/1000 [00:07<00:11, 62.03it/s]\u001b[A\u001b[A\u001b[A\n",
      "\n",
      "\n",
      " 31%|███▏      | 314/1000 [00:07<00:10, 65.76it/s]\u001b[A\u001b[A\u001b[A\n",
      "\n",
      "\n",
      " 32%|███▏      | 322/1000 [00:07<00:15, 45.16it/s]\u001b[A\u001b[A\u001b[A\n",
      "\n",
      "\n",
      " 33%|███▎      | 328/1000 [00:07<00:17, 37.71it/s]\u001b[A\u001b[A\u001b[A\n",
      "\n",
      "\n",
      " 33%|███▎      | 334/1000 [00:07<00:15, 42.25it/s]\u001b[A\u001b[A\u001b[A\n",
      "\n",
      "\n",
      " 34%|███▍      | 340/1000 [00:08<00:18, 35.38it/s]\u001b[A\u001b[A\u001b[A\n",
      "\n",
      "\n",
      " 35%|███▍      | 348/1000 [00:08<00:16, 40.58it/s]\u001b[A\u001b[A\u001b[A\n",
      "\n",
      "\n",
      " 36%|███▌      | 355/1000 [00:08<00:13, 46.11it/s]\u001b[A\u001b[A\u001b[A\n",
      "\n",
      "\n",
      " 36%|███▋      | 365/1000 [00:08<00:12, 50.08it/s]\u001b[A\u001b[A\u001b[A\n",
      "\n",
      "\n",
      " 37%|███▋      | 372/1000 [00:08<00:11, 53.98it/s]\u001b[A\u001b[A\u001b[A\n",
      "\n",
      "\n",
      " 38%|███▊      | 378/1000 [00:08<00:11, 53.64it/s]\u001b[A\u001b[A\u001b[A\n",
      "\n",
      "\n",
      " 39%|███▉      | 388/1000 [00:08<00:09, 61.70it/s]\u001b[A\u001b[A\u001b[A\n",
      "\n",
      "\n",
      " 40%|███▉      | 395/1000 [00:09<00:09, 63.92it/s]\u001b[A\u001b[A\u001b[A\n",
      "\n",
      "\n",
      " 40%|████      | 402/1000 [00:09<00:11, 53.20it/s]\u001b[A\u001b[A\u001b[A\n",
      "\n",
      "\n",
      " 41%|████      | 408/1000 [00:09<00:12, 48.29it/s]\u001b[A\u001b[A\u001b[A\n",
      "\n",
      "\n",
      " 41%|████▏     | 414/1000 [00:09<00:11, 50.33it/s]\u001b[A\u001b[A\u001b[A\n",
      "\n",
      "\n",
      " 42%|████▏     | 422/1000 [00:09<00:10, 56.62it/s]\u001b[A\u001b[A\u001b[A\n",
      "\n",
      "\n",
      " 43%|████▎     | 429/1000 [00:09<00:09, 59.67it/s]\u001b[A\u001b[A\u001b[A\n",
      "\n",
      "\n",
      " 44%|████▎     | 436/1000 [00:09<00:09, 57.03it/s]\u001b[A\u001b[A\u001b[A\n",
      "\n",
      "\n",
      " 44%|████▍     | 443/1000 [00:09<00:10, 50.99it/s]\u001b[A\u001b[A\u001b[A\n",
      "\n",
      "\n",
      " 45%|████▍     | 449/1000 [00:10<00:13, 39.69it/s]\u001b[A\u001b[A\u001b[A\n",
      "\n",
      "\n",
      " 45%|████▌     | 454/1000 [00:10<00:17, 31.34it/s]\u001b[A\u001b[A\u001b[A\n",
      "\n",
      "\n",
      " 46%|████▌     | 459/1000 [00:10<00:21, 25.04it/s]\u001b[A\u001b[A\u001b[A\n",
      "\n",
      "\n",
      " 46%|████▋     | 465/1000 [00:10<00:17, 30.16it/s]\u001b[A\u001b[A\u001b[A\n",
      "\n",
      "\n",
      " 47%|████▋     | 469/1000 [00:10<00:17, 30.90it/s]\u001b[A\u001b[A\u001b[A\n",
      "\n",
      "\n",
      " 48%|████▊     | 477/1000 [00:11<00:15, 34.40it/s]\u001b[A\u001b[A\u001b[A\n",
      "\n",
      "\n",
      " 48%|████▊     | 483/1000 [00:11<00:14, 35.67it/s]\u001b[A\u001b[A\u001b[A\n",
      "\n",
      "\n",
      " 49%|████▉     | 488/1000 [00:11<00:13, 38.89it/s]\u001b[A\u001b[A\u001b[A\n",
      "\n",
      "\n",
      " 50%|████▉     | 497/1000 [00:11<00:10, 46.41it/s]\u001b[A\u001b[A\u001b[A\n",
      "\n",
      "\n",
      " 50%|█████     | 503/1000 [00:11<00:11, 43.14it/s]\u001b[A\u001b[A\u001b[A\n",
      "\n",
      "\n",
      " 51%|█████     | 508/1000 [00:11<00:12, 38.07it/s]\u001b[A\u001b[A\u001b[A\n",
      "\n",
      "\n",
      " 51%|█████▏    | 513/1000 [00:12<00:16, 28.67it/s]\u001b[A\u001b[A\u001b[A\n",
      "\n",
      "\n",
      " 52%|█████▏    | 521/1000 [00:12<00:13, 35.36it/s]\u001b[A\u001b[A\u001b[A\n",
      "\n",
      "\n",
      " 53%|█████▎    | 529/1000 [00:12<00:11, 42.21it/s]\u001b[A\u001b[A\u001b[A\n",
      "\n",
      "\n",
      " 54%|█████▎    | 535/1000 [00:12<00:10, 44.28it/s]\u001b[A\u001b[A\u001b[A\n",
      "\n",
      "\n",
      " 54%|█████▍    | 541/1000 [00:12<00:11, 39.47it/s]\u001b[A\u001b[A\u001b[A\n",
      "\n",
      "\n",
      " 55%|█████▍    | 546/1000 [00:12<00:11, 38.04it/s]\u001b[A\u001b[A\u001b[A\n",
      "\n",
      "\n",
      " 55%|█████▌    | 554/1000 [00:12<00:10, 41.61it/s]\u001b[A\u001b[A\u001b[A\n",
      "\n",
      "\n",
      " 56%|█████▌    | 559/1000 [00:13<00:10, 42.92it/s]\u001b[A\u001b[A\u001b[A\n",
      "\n",
      "\n",
      " 56%|█████▋    | 564/1000 [00:13<00:10, 42.32it/s]\u001b[A\u001b[A\u001b[A\n",
      "\n",
      "\n",
      " 57%|█████▋    | 571/1000 [00:13<00:08, 47.99it/s]\u001b[A\u001b[A\u001b[A\n",
      "\n",
      "\n",
      " 58%|█████▊    | 578/1000 [00:13<00:08, 52.22it/s]\u001b[A\u001b[A\u001b[A\n",
      "\n",
      "\n",
      " 58%|█████▊    | 584/1000 [00:13<00:07, 52.73it/s]\u001b[A\u001b[A\u001b[A\n",
      "\n",
      "\n",
      " 59%|█████▉    | 590/1000 [00:13<00:08, 48.05it/s]\u001b[A\u001b[A\u001b[A\n",
      "\n",
      "\n",
      " 60%|█████▉    | 596/1000 [00:13<00:09, 42.64it/s]\u001b[A\u001b[A\u001b[A\n",
      "\n",
      "\n",
      " 60%|██████    | 601/1000 [00:13<00:09, 44.21it/s]\u001b[A\u001b[A\u001b[A\n",
      "\n",
      "\n",
      " 61%|██████    | 606/1000 [00:14<00:09, 43.37it/s]\u001b[A\u001b[A\u001b[A\n",
      "\n",
      "\n",
      " 61%|██████    | 611/1000 [00:14<00:09, 42.47it/s]\u001b[A\u001b[A\u001b[A\n",
      "\n",
      "\n",
      " 62%|██████▏   | 616/1000 [00:14<00:09, 41.34it/s]\u001b[A\u001b[A\u001b[A\n",
      "\n",
      "\n",
      " 62%|██████▏   | 621/1000 [00:14<00:09, 39.91it/s]\u001b[A\u001b[A\u001b[A\n",
      "\n",
      "\n",
      " 63%|██████▎   | 626/1000 [00:14<00:10, 37.20it/s]\u001b[A\u001b[A\u001b[A\n",
      "\n",
      "\n",
      " 63%|██████▎   | 632/1000 [00:14<00:08, 41.90it/s]\u001b[A\u001b[A\u001b[A\n",
      "\n",
      "\n",
      " 64%|██████▍   | 638/1000 [00:14<00:08, 44.99it/s]\u001b[A\u001b[A\u001b[A\n",
      "\n",
      "\n",
      " 64%|██████▍   | 643/1000 [00:14<00:07, 45.24it/s]\u001b[A\u001b[A\u001b[A\n",
      "\n",
      "\n",
      " 65%|██████▍   | 649/1000 [00:15<00:07, 45.35it/s]\u001b[A\u001b[A\u001b[A\n",
      "\n",
      "\n",
      " 66%|██████▌   | 658/1000 [00:15<00:06, 52.72it/s]\u001b[A\u001b[A\u001b[A\n",
      "\n",
      "\n",
      " 67%|██████▋   | 666/1000 [00:15<00:05, 57.97it/s]\u001b[A\u001b[A\u001b[A\n",
      "\n",
      "\n",
      " 67%|██████▋   | 673/1000 [00:15<00:06, 51.82it/s]\u001b[A\u001b[A\u001b[A\n",
      "\n",
      "\n",
      " 68%|██████▊   | 680/1000 [00:15<00:05, 55.90it/s]\u001b[A\u001b[A\u001b[A\n",
      "\n",
      "\n",
      " 69%|██████▉   | 692/1000 [00:15<00:04, 65.45it/s]\u001b[A\u001b[A\u001b[A\n",
      "\n",
      "\n",
      " 70%|███████   | 700/1000 [00:15<00:04, 68.03it/s]\u001b[A\u001b[A\u001b[A\n",
      "\n",
      "\n",
      " 71%|███████   | 708/1000 [00:15<00:04, 68.46it/s]\u001b[A\u001b[A\u001b[A\n",
      "\n",
      "\n",
      " 72%|███████▏  | 716/1000 [00:16<00:04, 58.70it/s]\u001b[A\u001b[A\u001b[A\n",
      "\n",
      "\n",
      " 72%|███████▏  | 723/1000 [00:16<00:05, 53.82it/s]\u001b[A\u001b[A\u001b[A\n",
      "\n",
      "\n",
      " 73%|███████▎  | 729/1000 [00:16<00:05, 53.73it/s]\u001b[A\u001b[A\u001b[A\n",
      "\n",
      "\n",
      " 74%|███████▎  | 735/1000 [00:16<00:05, 50.23it/s]\u001b[A\u001b[A\u001b[A\n",
      "\n",
      "\n",
      " 74%|███████▍  | 741/1000 [00:16<00:05, 46.62it/s]\u001b[A\u001b[A\u001b[A\n",
      "\n",
      "\n",
      " 75%|███████▍  | 749/1000 [00:16<00:05, 48.69it/s]\u001b[A\u001b[A\u001b[A\n",
      "\n",
      "\n",
      " 76%|███████▌  | 758/1000 [00:16<00:04, 50.81it/s]\u001b[A\u001b[A\u001b[A\n",
      "\n",
      "\n",
      " 77%|███████▋  | 767/1000 [00:16<00:04, 57.30it/s]\u001b[A\u001b[A\u001b[A\n",
      "\n",
      "\n",
      " 78%|███████▊  | 776/1000 [00:17<00:03, 61.99it/s]\u001b[A\u001b[A\u001b[A\n",
      "\n",
      "\n",
      " 78%|███████▊  | 785/1000 [00:17<00:03, 68.06it/s]\u001b[A\u001b[A\u001b[A\n",
      "\n",
      "\n",
      " 79%|███████▉  | 793/1000 [00:17<00:03, 65.62it/s]\u001b[A\u001b[A\u001b[A\n",
      "\n",
      "\n",
      " 80%|████████  | 800/1000 [00:17<00:03, 55.40it/s]\u001b[A\u001b[A\u001b[A\n",
      "\n",
      "\n",
      " 81%|████████  | 807/1000 [00:17<00:04, 43.42it/s]\u001b[A\u001b[A\u001b[A\n",
      "\n",
      "\n",
      " 81%|████████▏ | 813/1000 [00:17<00:04, 38.77it/s]\u001b[A\u001b[A\u001b[A\n",
      "\n",
      "\n",
      " 82%|████████▏ | 818/1000 [00:18<00:04, 41.20it/s]\u001b[A\u001b[A\u001b[A\n",
      "\n",
      "\n",
      " 82%|████████▏ | 823/1000 [00:18<00:04, 38.65it/s]\u001b[A\u001b[A\u001b[A\n",
      "\n",
      "\n",
      " 83%|████████▎ | 830/1000 [00:18<00:03, 44.64it/s]\u001b[A\u001b[A\u001b[A\n",
      "\n",
      "\n",
      " 84%|████████▎ | 836/1000 [00:18<00:03, 43.86it/s]\u001b[A\u001b[A\u001b[A\n",
      "\n",
      "\n",
      " 84%|████████▍ | 843/1000 [00:18<00:03, 49.17it/s]\u001b[A\u001b[A\u001b[A\n",
      "\n",
      "\n",
      " 85%|████████▌ | 853/1000 [00:18<00:02, 57.39it/s]\u001b[A\u001b[A\u001b[A\n",
      "\n",
      "\n",
      " 86%|████████▌ | 860/1000 [00:18<00:02, 57.05it/s]\u001b[A\u001b[A\u001b[A\n",
      "\n",
      "\n",
      " 87%|████████▋ | 867/1000 [00:18<00:02, 58.26it/s]\u001b[A\u001b[A\u001b[A\n",
      "\n",
      "\n",
      " 88%|████████▊ | 875/1000 [00:18<00:01, 63.42it/s]\u001b[A\u001b[A\u001b[A\n",
      "\n",
      "\n",
      " 88%|████████▊ | 882/1000 [00:19<00:02, 58.32it/s]\u001b[A\u001b[A\u001b[A\n",
      "\n",
      "\n",
      " 89%|████████▉ | 891/1000 [00:19<00:01, 64.76it/s]\u001b[A\u001b[A\u001b[A\n",
      "\n",
      "\n",
      " 90%|████████▉ | 898/1000 [00:19<00:01, 64.61it/s]\u001b[A\u001b[A\u001b[A\n",
      "\n",
      "\n",
      " 90%|█████████ | 905/1000 [00:19<00:01, 53.76it/s]\u001b[A\u001b[A\u001b[A\n",
      "\n",
      "\n",
      " 91%|█████████ | 911/1000 [00:19<00:01, 47.28it/s]\u001b[A\u001b[A\u001b[A\n",
      "\n",
      "\n",
      " 92%|█████████▏| 920/1000 [00:19<00:01, 53.62it/s]\u001b[A\u001b[A\u001b[A\n",
      "\n",
      "\n",
      " 93%|█████████▎| 928/1000 [00:19<00:01, 56.81it/s]\u001b[A\u001b[A\u001b[A\n",
      "\n",
      "\n",
      " 94%|█████████▎| 937/1000 [00:20<00:01, 62.40it/s]\u001b[A\u001b[A\u001b[A\n",
      "\n",
      "\n",
      " 94%|█████████▍| 944/1000 [00:20<00:00, 64.03it/s]\u001b[A\u001b[A\u001b[A\n",
      "\n",
      "\n",
      " 95%|█████████▌| 951/1000 [00:20<00:00, 64.93it/s]\u001b[A\u001b[A\u001b[A\n",
      "\n",
      "\n",
      " 96%|█████████▌| 958/1000 [00:20<00:00, 65.73it/s]\u001b[A\u001b[A\u001b[A\n",
      "\n",
      "\n",
      " 96%|█████████▋| 965/1000 [00:20<00:00, 64.83it/s]\u001b[A\u001b[A\u001b[A\n",
      "\n",
      "\n",
      " 97%|█████████▋| 972/1000 [00:20<00:00, 38.52it/s]\u001b[A\u001b[A\u001b[A\n",
      "\n",
      "\n",
      " 98%|█████████▊| 980/1000 [00:20<00:00, 42.78it/s]\u001b[A\u001b[A\u001b[A\n",
      "\n",
      "\n",
      " 99%|█████████▊| 987/1000 [00:21<00:00, 47.07it/s]\u001b[A\u001b[A\u001b[A\n",
      "\n",
      "\n",
      " 99%|█████████▉| 993/1000 [00:21<00:00, 48.88it/s]\u001b[A\u001b[A\u001b[A\n",
      "\n",
      "\n",
      "100%|██████████| 1000/1000 [00:21<00:00, 46.92it/s]\n"
     ]
    }
   ],
   "source": [
    "# process test set\n",
    "new_test = []\n",
    "for ins_id, user_sample in tqdm(test.main_df.groupby('installation_id', sort=False), total=1000):\n",
    "    a = get_data(user_sample, test_set=True)\n",
    "    new_test.append(a)\n",
    "    \n",
    "X_test = pd.DataFrame(new_test)"
   ]
  },
  {
   "cell_type": "code",
   "execution_count": 50,
   "metadata": {},
   "outputs": [
    {
     "data": {
      "text/plain": [
       "set()"
      ]
     },
     "execution_count": 50,
     "metadata": {},
     "output_type": "execute_result"
    }
   ],
   "source": [
    "set(X.columns).difference(set(X_test.columns))"
   ]
  },
  {
   "cell_type": "code",
   "execution_count": 53,
   "metadata": {},
   "outputs": [
    {
     "data": {
      "text/plain": [
       "15"
      ]
     },
     "execution_count": 53,
     "metadata": {},
     "output_type": "execute_result"
    }
   ],
   "source": [
    "len(X.columns)"
   ]
  },
  {
   "cell_type": "code",
   "execution_count": 56,
   "metadata": {},
   "outputs": [
    {
     "data": {
      "text/plain": [
       "{'accuracy_group'}"
      ]
     },
     "execution_count": 56,
     "metadata": {},
     "output_type": "execute_result"
    }
   ],
   "source": [
    "set(X_test.columns) - set(X.columns)"
   ]
  },
  {
   "cell_type": "code",
   "execution_count": 57,
   "metadata": {},
   "outputs": [],
   "source": [
    "preds = clf.predict(X_test[all_features], num_iteration=clf.best_iteration_)"
   ]
  },
  {
   "cell_type": "code",
   "execution_count": 58,
   "metadata": {},
   "outputs": [
    {
     "data": {
      "text/plain": [
       "array([3, 3, 3, 3, 3, 3, 3, 3, 0, 3, 3, 3, 3, 3, 0, 0, 3, 3, 3, 3, 1, 3,\n",
       "       3, 3, 1, 3, 3, 3, 3, 3, 0, 0, 0, 1, 3, 3, 0, 3, 3, 1, 3, 0, 0, 3,\n",
       "       3, 3, 3, 0, 3, 3, 0, 0, 3, 3, 3, 0, 0, 3, 3, 0, 3, 3, 3, 3, 0, 3,\n",
       "       3, 3, 3, 0, 3, 3, 3, 3, 3, 3, 0, 3, 3, 3, 3, 3, 3, 3, 3, 3, 3, 0,\n",
       "       3, 3, 3, 3, 3, 1, 0, 3, 3, 1, 0, 3, 3, 0, 3, 3, 0, 3, 3, 3, 3, 3,\n",
       "       0, 3, 3, 3, 3, 3, 3, 3, 3, 3, 3, 3, 3, 3, 3, 0, 3, 3, 3, 3, 3, 1,\n",
       "       0, 3, 3, 3, 3, 1, 3, 2, 3, 3, 0, 0, 3, 3, 1, 3, 3, 3, 3, 1, 3, 0,\n",
       "       0, 0, 3, 3, 3, 3, 3, 0, 3, 3, 1, 3, 3, 3, 3, 3, 3, 3, 3, 3, 3, 3,\n",
       "       3, 3, 1, 0, 3, 0, 3, 0, 3, 0, 3, 1, 3, 3, 3, 3, 0, 0, 3, 3, 2, 0,\n",
       "       3, 3, 3, 1, 0, 0, 3, 0, 3, 0, 3, 3, 3, 3, 0, 3, 3, 3, 3, 1, 0, 0,\n",
       "       3, 3, 3, 0, 0, 3, 3, 1, 3, 2, 0, 3, 3, 3, 3, 3, 0, 3, 0, 0, 3, 0,\n",
       "       3, 3, 3, 3, 3, 3, 0, 0, 3, 3, 3, 3, 3, 3, 3, 3, 3, 3, 3, 3, 3, 1,\n",
       "       3, 3, 3, 3, 0, 0, 0, 3, 3, 0, 1, 3, 0, 3, 3, 3, 3, 3, 0, 3, 3, 3,\n",
       "       3, 0, 3, 3, 3, 3, 0, 3, 3, 3, 3, 3, 3, 3, 0, 3, 0, 1, 3, 3, 3, 3,\n",
       "       3, 3, 3, 3, 3, 0, 0, 3, 3, 3, 0, 3, 3, 3, 3, 3, 3, 3, 3, 3, 3, 3,\n",
       "       0, 0, 0, 3, 3, 3, 3, 3, 3, 0, 3, 3, 2, 3, 3, 3, 3, 3, 3, 3, 3, 0,\n",
       "       3, 3, 3, 3, 3, 3, 3, 3, 3, 3, 3, 3, 3, 3, 3, 3, 3, 3, 3, 3, 0, 3,\n",
       "       3, 3, 3, 3, 3, 3, 3, 3, 3, 0, 3, 0, 3, 3, 3, 3, 1, 3, 1, 3, 3, 3,\n",
       "       1, 0, 0, 3, 3, 3, 3, 3, 3, 3, 3, 3, 3, 3, 3, 3, 3, 3, 3, 3, 0, 3,\n",
       "       1, 0, 3, 0, 3, 3, 1, 3, 3, 3, 3, 0, 3, 0, 3, 0, 3, 0, 3, 0, 1, 3,\n",
       "       3, 0, 3, 3, 0, 1, 0, 3, 3, 0, 0, 3, 3, 3, 3, 3, 3, 3, 1, 3, 3, 0,\n",
       "       3, 3, 3, 3, 3, 3, 3, 3, 3, 3, 3, 3, 3, 3, 1, 3, 3, 0, 3, 3, 3, 3,\n",
       "       3, 0, 3, 3, 0, 3, 3, 3, 3, 3, 3, 3, 3, 3, 0, 3, 3, 2, 3, 3, 3, 0,\n",
       "       1, 3, 3, 0, 0, 2, 3, 3, 3, 2, 3, 3, 3, 3, 3, 3, 3, 3, 0, 3, 0, 3,\n",
       "       3, 0, 3, 3, 0, 3, 3, 0, 0, 3, 3, 3, 3, 3, 3, 3, 3, 3, 3, 3, 3, 3,\n",
       "       1, 3, 3, 0, 3, 2, 0, 3, 3, 3, 3, 3, 3, 1, 3, 1, 3, 3, 3, 3, 0, 3,\n",
       "       3, 3, 3, 3, 3, 3, 3, 3, 0, 3, 3, 3, 3, 3, 3, 3, 0, 3, 3, 3, 3, 3,\n",
       "       3, 3, 3, 0, 0, 3, 3, 0, 0, 3, 3, 3, 0, 3, 3, 3, 1, 0, 3, 3, 3, 3,\n",
       "       3, 3, 0, 3, 3, 0, 3, 3, 0, 3, 0, 0, 3, 3, 3, 3, 3, 3, 3, 0, 3, 3,\n",
       "       1, 3, 0, 3, 3, 1, 3, 3, 3, 0, 3, 3, 3, 3, 3, 0, 3, 3, 3, 0, 3, 3,\n",
       "       3, 0, 0, 3, 0, 3, 3, 3, 1, 3, 3, 3, 3, 3, 0, 3, 3, 0, 3, 0, 1, 3,\n",
       "       3, 3, 3, 3, 0, 3, 3, 3, 1, 0, 3, 3, 3, 3, 0, 3, 3, 3, 0, 3, 3, 3,\n",
       "       3, 3, 3, 3, 3, 3, 3, 3, 3, 3, 3, 3, 3, 3, 3, 3, 3, 3, 3, 1, 1, 3,\n",
       "       3, 3, 0, 3, 0, 0, 0, 0, 0, 3, 3, 3, 3, 3, 3, 3, 0, 3, 3, 3, 3, 3,\n",
       "       3, 0, 3, 3, 3, 3, 3, 3, 3, 3, 3, 3, 3, 3, 3, 3, 3, 3, 0, 3, 3, 3,\n",
       "       0, 3, 3, 0, 3, 3, 3, 3, 3, 3, 0, 0, 3, 3, 1, 1, 3, 3, 3, 3, 0, 3,\n",
       "       3, 0, 3, 1, 3, 2, 0, 1, 3, 3, 0, 3, 0, 3, 1, 3, 3, 3, 1, 0, 3, 3,\n",
       "       3, 3, 3, 3, 3, 3, 3, 3, 3, 3, 3, 3, 3, 3, 0, 3, 0, 3, 3, 3, 3, 3,\n",
       "       2, 3, 3, 3, 3, 3, 3, 0, 3, 3, 3, 3, 0, 3, 3, 3, 3, 3, 3, 3, 3, 3,\n",
       "       3, 1, 3, 1, 3, 3, 3, 3, 3, 3, 3, 3, 3, 3, 3, 0, 1, 3, 0, 3, 3, 0,\n",
       "       0, 0, 3, 3, 3, 3, 3, 3, 3, 3, 1, 3, 0, 1, 3, 3, 3, 3, 3, 1, 3, 1,\n",
       "       3, 3, 0, 3, 3, 1, 3, 3, 1, 0, 3, 3, 3, 0, 3, 3, 3, 3, 3, 1, 3, 0,\n",
       "       3, 3, 3, 3, 3, 0, 3, 3, 3, 3, 3, 3, 3, 1, 3, 3, 0, 3, 0, 3, 3, 0,\n",
       "       3, 1, 3, 3, 3, 3, 3, 1, 0, 3, 3, 3, 3, 1, 0, 3, 3, 1, 3, 3, 0, 3,\n",
       "       0, 0, 0, 0, 0, 0, 3, 3, 0, 3, 3, 0, 3, 1, 3, 3, 0, 3, 3, 3, 0, 3,\n",
       "       3, 3, 0, 0, 3, 3, 0, 3, 3, 3])"
      ]
     },
     "execution_count": 58,
     "metadata": {},
     "output_type": "execute_result"
    }
   ],
   "source": [
    "preds"
   ]
  },
  {
   "cell_type": "code",
   "execution_count": null,
   "metadata": {},
   "outputs": [],
   "source": []
  }
 ],
 "metadata": {
  "kernelspec": {
   "display_name": "Python 3",
   "language": "python",
   "name": "python3"
  },
  "language_info": {
   "codemirror_mode": {
    "name": "ipython",
    "version": 3
   },
   "file_extension": ".py",
   "mimetype": "text/x-python",
   "name": "python",
   "nbconvert_exporter": "python",
   "pygments_lexer": "ipython3",
   "version": "3.7.3"
  }
 },
 "nbformat": 4,
 "nbformat_minor": 2
}
