{
 "cells": [
  {
   "cell_type": "code",
   "execution_count": 1,
   "metadata": {},
   "outputs": [],
   "source": [
    "%load_ext autoreload\n",
    "%autoreload 2\n",
    "from IPython.core.interactiveshell import InteractiveShell\n",
    "InteractiveShell.ast_node_interactivity='all'"
   ]
  },
  {
   "cell_type": "code",
   "execution_count": 79,
   "metadata": {},
   "outputs": [],
   "source": [
    "import numpy as np\n",
    "import pandas as pd\n",
    "from pathlib import Path\n",
    "import json\n",
    "import matplotlib.pyplot as plt\n",
    "import seaborn as sns\n",
    "sns.set()\n",
    "import pprint"
   ]
  },
  {
   "cell_type": "code",
   "execution_count": 3,
   "metadata": {},
   "outputs": [],
   "source": [
    "DATA_DIR = Path('../data/original/')"
   ]
  },
  {
   "cell_type": "code",
   "execution_count": 8,
   "metadata": {},
   "outputs": [],
   "source": [
    "specs_df = pd.read_csv(DATA_DIR / 'specs.csv')\n",
    "train_df = pd.read_csv(DATA_DIR / 'train.csv')\n",
    "train_labels_df = pd.read_csv(DATA_DIR / 'train_labels.csv')\n",
    "test_df = pd.read_csv(DATA_DIR / 'test.csv')"
   ]
  },
  {
   "cell_type": "markdown",
   "metadata": {},
   "source": [
    "## specs"
   ]
  },
  {
   "cell_type": "code",
   "execution_count": 9,
   "metadata": {},
   "outputs": [
    {
     "data": {
      "text/html": [
       "<div>\n",
       "<style scoped>\n",
       "    .dataframe tbody tr th:only-of-type {\n",
       "        vertical-align: middle;\n",
       "    }\n",
       "\n",
       "    .dataframe tbody tr th {\n",
       "        vertical-align: top;\n",
       "    }\n",
       "\n",
       "    .dataframe thead th {\n",
       "        text-align: right;\n",
       "    }\n",
       "</style>\n",
       "<table border=\"1\" class=\"dataframe\">\n",
       "  <thead>\n",
       "    <tr style=\"text-align: right;\">\n",
       "      <th></th>\n",
       "      <th>event_id</th>\n",
       "      <th>info</th>\n",
       "      <th>args</th>\n",
       "    </tr>\n",
       "  </thead>\n",
       "  <tbody>\n",
       "    <tr>\n",
       "      <th>0</th>\n",
       "      <td>2b9272f4</td>\n",
       "      <td>The end of system-initiated feedback (Correct)...</td>\n",
       "      <td>[{\"name\":\"game_time\",\"type\":\"int\",\"info\":\"mill...</td>\n",
       "    </tr>\n",
       "    <tr>\n",
       "      <th>1</th>\n",
       "      <td>df4fe8b6</td>\n",
       "      <td>The end of system-initiated feedback (Incorrec...</td>\n",
       "      <td>[{\"name\":\"game_time\",\"type\":\"int\",\"info\":\"mill...</td>\n",
       "    </tr>\n",
       "    <tr>\n",
       "      <th>2</th>\n",
       "      <td>3babcb9b</td>\n",
       "      <td>The end of system-initiated instruction event ...</td>\n",
       "      <td>[{\"name\":\"game_time\",\"type\":\"int\",\"info\":\"mill...</td>\n",
       "    </tr>\n",
       "    <tr>\n",
       "      <th>3</th>\n",
       "      <td>7f0836bf</td>\n",
       "      <td>The end of system-initiated instruction event ...</td>\n",
       "      <td>[{\"name\":\"game_time\",\"type\":\"int\",\"info\":\"mill...</td>\n",
       "    </tr>\n",
       "    <tr>\n",
       "      <th>4</th>\n",
       "      <td>ab3136ba</td>\n",
       "      <td>The end of system-initiated instruction event ...</td>\n",
       "      <td>[{\"name\":\"game_time\",\"type\":\"int\",\"info\":\"mill...</td>\n",
       "    </tr>\n",
       "  </tbody>\n",
       "</table>\n",
       "</div>"
      ],
      "text/plain": [
       "   event_id                                               info  \\\n",
       "0  2b9272f4  The end of system-initiated feedback (Correct)...   \n",
       "1  df4fe8b6  The end of system-initiated feedback (Incorrec...   \n",
       "2  3babcb9b  The end of system-initiated instruction event ...   \n",
       "3  7f0836bf  The end of system-initiated instruction event ...   \n",
       "4  ab3136ba  The end of system-initiated instruction event ...   \n",
       "\n",
       "                                                args  \n",
       "0  [{\"name\":\"game_time\",\"type\":\"int\",\"info\":\"mill...  \n",
       "1  [{\"name\":\"game_time\",\"type\":\"int\",\"info\":\"mill...  \n",
       "2  [{\"name\":\"game_time\",\"type\":\"int\",\"info\":\"mill...  \n",
       "3  [{\"name\":\"game_time\",\"type\":\"int\",\"info\":\"mill...  \n",
       "4  [{\"name\":\"game_time\",\"type\":\"int\",\"info\":\"mill...  "
      ]
     },
     "execution_count": 9,
     "metadata": {},
     "output_type": "execute_result"
    }
   ],
   "source": [
    "spces_df.head()"
   ]
  },
  {
   "cell_type": "code",
   "execution_count": 25,
   "metadata": {},
   "outputs": [
    {
     "data": {
      "text/plain": [
       "(386, 3)"
      ]
     },
     "execution_count": 25,
     "metadata": {},
     "output_type": "execute_result"
    }
   ],
   "source": [
    "specs_df.shape"
   ]
  },
  {
   "cell_type": "code",
   "execution_count": 24,
   "metadata": {},
   "outputs": [
    {
     "data": {
      "text/html": [
       "<div>\n",
       "<style scoped>\n",
       "    .dataframe tbody tr th:only-of-type {\n",
       "        vertical-align: middle;\n",
       "    }\n",
       "\n",
       "    .dataframe tbody tr th {\n",
       "        vertical-align: top;\n",
       "    }\n",
       "\n",
       "    .dataframe thead th {\n",
       "        text-align: right;\n",
       "    }\n",
       "</style>\n",
       "<table border=\"1\" class=\"dataframe\">\n",
       "  <thead>\n",
       "    <tr style=\"text-align: right;\">\n",
       "      <th></th>\n",
       "      <th>event_id</th>\n",
       "      <th>info</th>\n",
       "      <th>args</th>\n",
       "    </tr>\n",
       "  </thead>\n",
       "  <tbody>\n",
       "    <tr>\n",
       "      <th>count</th>\n",
       "      <td>386</td>\n",
       "      <td>386</td>\n",
       "      <td>386</td>\n",
       "    </tr>\n",
       "    <tr>\n",
       "      <th>unique</th>\n",
       "      <td>386</td>\n",
       "      <td>168</td>\n",
       "      <td>191</td>\n",
       "    </tr>\n",
       "    <tr>\n",
       "      <th>top</th>\n",
       "      <td>db02c830</td>\n",
       "      <td>This event occurs when the player clicks on th...</td>\n",
       "      <td>[{\"name\":\"game_time\",\"type\":\"int\",\"info\":\"mill...</td>\n",
       "    </tr>\n",
       "    <tr>\n",
       "      <th>freq</th>\n",
       "      <td>1</td>\n",
       "      <td>17</td>\n",
       "      <td>25</td>\n",
       "    </tr>\n",
       "  </tbody>\n",
       "</table>\n",
       "</div>"
      ],
      "text/plain": [
       "        event_id                                               info  \\\n",
       "count        386                                                386   \n",
       "unique       386                                                168   \n",
       "top     db02c830  This event occurs when the player clicks on th...   \n",
       "freq           1                                                 17   \n",
       "\n",
       "                                                     args  \n",
       "count                                                 386  \n",
       "unique                                                191  \n",
       "top     [{\"name\":\"game_time\",\"type\":\"int\",\"info\":\"mill...  \n",
       "freq                                                   25  "
      ]
     },
     "execution_count": 24,
     "metadata": {},
     "output_type": "execute_result"
    }
   ],
   "source": [
    "specs_df.describe()"
   ]
  },
  {
   "cell_type": "code",
   "execution_count": 7,
   "metadata": {},
   "outputs": [
    {
     "data": {
      "text/plain": [
       "'The end of system-initiated feedback (Correct) event occurs when the game finishes delivering feedback to the player in response to a correct round attempt (pressing the go button with the correct answer). It contains information that describes the duration and content of the instruction, and will likely occur in conjunction with a beat round event. These events are used to determine the effectiveness of the feedback. We can answer questions like, \"how much time elapsed while the game was presenting feedback?\"'"
      ]
     },
     "execution_count": 7,
     "metadata": {},
     "output_type": "execute_result"
    }
   ],
   "source": [
    "specs_df['info'][0]"
   ]
  },
  {
   "cell_type": "code",
   "execution_count": 14,
   "metadata": {},
   "outputs": [
    {
     "data": {
      "text/plain": [
       "[{'name': 'game_time',\n",
       "  'type': 'int',\n",
       "  'info': 'millisecond count since start of game'},\n",
       " {'name': 'round',\n",
       "  'type': 'int',\n",
       "  'info': 'number of the current round when the event takes place or 0 if no round'},\n",
       " {'name': 'level',\n",
       "  'type': 'int',\n",
       "  'info': 'number of the current level when the event takes place or 0 if no level'},\n",
       " {'name': 'description',\n",
       "  'type': 'string',\n",
       "  'info': 'the text or description of the instruction'},\n",
       " {'name': 'identifier',\n",
       "  'type': 'string',\n",
       "  'info': 'a unique identifier for this piece of instruction'},\n",
       " {'name': 'media_type',\n",
       "  'type': 'string',\n",
       "  'info': \"the type of media that has just played:\\n'audio' || 'animation' || 'other'\"},\n",
       " {'name': 'duration',\n",
       "  'type': 'int',\n",
       "  'info': 'the duration of the media playback in milliseconds'},\n",
       " {'name': 'event_count', 'type': 'int', 'info': 'session event counter'},\n",
       " {'name': 'event_code', 'type': 'int', 'info': 'event class identifier'}]"
      ]
     },
     "execution_count": 14,
     "metadata": {},
     "output_type": "execute_result"
    }
   ],
   "source": [
    "json.loads(specs_df['args'][0])"
   ]
  },
  {
   "cell_type": "code",
   "execution_count": 15,
   "metadata": {},
   "outputs": [
    {
     "data": {
      "text/plain": [
       "'The end of system-initiated instruction event occurs when the game finishes delivering instructions to the player. It contains information that describes the content of the instruction including duration. These events are used to determine the effectiveness of the instructions and the amount of time they consume. We can answer questions like \"how much time elapsed while the game was presenting instruction?\"'"
      ]
     },
     "execution_count": 15,
     "metadata": {},
     "output_type": "execute_result"
    }
   ],
   "source": [
    "specs_df['info'][3]"
   ]
  },
  {
   "cell_type": "code",
   "execution_count": 16,
   "metadata": {},
   "outputs": [
    {
     "data": {
      "text/plain": [
       "[{'name': 'game_time',\n",
       "  'type': 'int',\n",
       "  'info': 'millisecond count since start of game'},\n",
       " {'name': 'round',\n",
       "  'type': 'int',\n",
       "  'info': 'number of the current round when the event takes place or 0 if no round'},\n",
       " {'name': 'description',\n",
       "  'type': 'string',\n",
       "  'info': 'the text or description of the instruction'},\n",
       " {'name': 'identifier',\n",
       "  'type': 'string',\n",
       "  'info': 'a unique identifier for this piece of instruction'},\n",
       " {'name': 'media_type',\n",
       "  'type': 'string',\n",
       "  'info': \"the type of media that has just played:\\n'audio' || 'animation' || 'other'\"},\n",
       " {'name': 'duration',\n",
       "  'type': 'int',\n",
       "  'info': 'the duration of the media playback in milliseconds'},\n",
       " {'name': 'event_count', 'type': 'int', 'info': 'session event counter'},\n",
       " {'name': 'event_code', 'type': 'int', 'info': 'event class identifier'}]"
      ]
     },
     "execution_count": 16,
     "metadata": {},
     "output_type": "execute_result"
    }
   ],
   "source": [
    "json.loads(specs_df['args'][3])"
   ]
  },
  {
   "cell_type": "markdown",
   "metadata": {},
   "source": [
    "## train"
   ]
  },
  {
   "cell_type": "code",
   "execution_count": 17,
   "metadata": {},
   "outputs": [
    {
     "data": {
      "text/html": [
       "<div>\n",
       "<style scoped>\n",
       "    .dataframe tbody tr th:only-of-type {\n",
       "        vertical-align: middle;\n",
       "    }\n",
       "\n",
       "    .dataframe tbody tr th {\n",
       "        vertical-align: top;\n",
       "    }\n",
       "\n",
       "    .dataframe thead th {\n",
       "        text-align: right;\n",
       "    }\n",
       "</style>\n",
       "<table border=\"1\" class=\"dataframe\">\n",
       "  <thead>\n",
       "    <tr style=\"text-align: right;\">\n",
       "      <th></th>\n",
       "      <th>event_id</th>\n",
       "      <th>game_session</th>\n",
       "      <th>timestamp</th>\n",
       "      <th>event_data</th>\n",
       "      <th>installation_id</th>\n",
       "      <th>event_count</th>\n",
       "      <th>event_code</th>\n",
       "      <th>game_time</th>\n",
       "      <th>title</th>\n",
       "      <th>type</th>\n",
       "      <th>world</th>\n",
       "    </tr>\n",
       "  </thead>\n",
       "  <tbody>\n",
       "    <tr>\n",
       "      <th>0</th>\n",
       "      <td>27253bdc</td>\n",
       "      <td>45bb1e1b6b50c07b</td>\n",
       "      <td>2019-09-06T17:53:46.937Z</td>\n",
       "      <td>{\"event_code\": 2000, \"event_count\": 1}</td>\n",
       "      <td>0001e90f</td>\n",
       "      <td>1</td>\n",
       "      <td>2000</td>\n",
       "      <td>0</td>\n",
       "      <td>Welcome to Lost Lagoon!</td>\n",
       "      <td>Clip</td>\n",
       "      <td>NONE</td>\n",
       "    </tr>\n",
       "    <tr>\n",
       "      <th>1</th>\n",
       "      <td>27253bdc</td>\n",
       "      <td>17eeb7f223665f53</td>\n",
       "      <td>2019-09-06T17:54:17.519Z</td>\n",
       "      <td>{\"event_code\": 2000, \"event_count\": 1}</td>\n",
       "      <td>0001e90f</td>\n",
       "      <td>1</td>\n",
       "      <td>2000</td>\n",
       "      <td>0</td>\n",
       "      <td>Magma Peak - Level 1</td>\n",
       "      <td>Clip</td>\n",
       "      <td>MAGMAPEAK</td>\n",
       "    </tr>\n",
       "    <tr>\n",
       "      <th>2</th>\n",
       "      <td>77261ab5</td>\n",
       "      <td>0848ef14a8dc6892</td>\n",
       "      <td>2019-09-06T17:54:56.302Z</td>\n",
       "      <td>{\"version\":\"1.0\",\"event_count\":1,\"game_time\":0...</td>\n",
       "      <td>0001e90f</td>\n",
       "      <td>1</td>\n",
       "      <td>2000</td>\n",
       "      <td>0</td>\n",
       "      <td>Sandcastle Builder (Activity)</td>\n",
       "      <td>Activity</td>\n",
       "      <td>MAGMAPEAK</td>\n",
       "    </tr>\n",
       "    <tr>\n",
       "      <th>3</th>\n",
       "      <td>b2dba42b</td>\n",
       "      <td>0848ef14a8dc6892</td>\n",
       "      <td>2019-09-06T17:54:56.387Z</td>\n",
       "      <td>{\"description\":\"Let's build a sandcastle! Firs...</td>\n",
       "      <td>0001e90f</td>\n",
       "      <td>2</td>\n",
       "      <td>3010</td>\n",
       "      <td>53</td>\n",
       "      <td>Sandcastle Builder (Activity)</td>\n",
       "      <td>Activity</td>\n",
       "      <td>MAGMAPEAK</td>\n",
       "    </tr>\n",
       "    <tr>\n",
       "      <th>4</th>\n",
       "      <td>1bb5fbdb</td>\n",
       "      <td>0848ef14a8dc6892</td>\n",
       "      <td>2019-09-06T17:55:03.253Z</td>\n",
       "      <td>{\"description\":\"Let's build a sandcastle! Firs...</td>\n",
       "      <td>0001e90f</td>\n",
       "      <td>3</td>\n",
       "      <td>3110</td>\n",
       "      <td>6972</td>\n",
       "      <td>Sandcastle Builder (Activity)</td>\n",
       "      <td>Activity</td>\n",
       "      <td>MAGMAPEAK</td>\n",
       "    </tr>\n",
       "  </tbody>\n",
       "</table>\n",
       "</div>"
      ],
      "text/plain": [
       "   event_id      game_session                 timestamp  \\\n",
       "0  27253bdc  45bb1e1b6b50c07b  2019-09-06T17:53:46.937Z   \n",
       "1  27253bdc  17eeb7f223665f53  2019-09-06T17:54:17.519Z   \n",
       "2  77261ab5  0848ef14a8dc6892  2019-09-06T17:54:56.302Z   \n",
       "3  b2dba42b  0848ef14a8dc6892  2019-09-06T17:54:56.387Z   \n",
       "4  1bb5fbdb  0848ef14a8dc6892  2019-09-06T17:55:03.253Z   \n",
       "\n",
       "                                          event_data installation_id  \\\n",
       "0             {\"event_code\": 2000, \"event_count\": 1}        0001e90f   \n",
       "1             {\"event_code\": 2000, \"event_count\": 1}        0001e90f   \n",
       "2  {\"version\":\"1.0\",\"event_count\":1,\"game_time\":0...        0001e90f   \n",
       "3  {\"description\":\"Let's build a sandcastle! Firs...        0001e90f   \n",
       "4  {\"description\":\"Let's build a sandcastle! Firs...        0001e90f   \n",
       "\n",
       "   event_count  event_code  game_time                          title  \\\n",
       "0            1        2000          0        Welcome to Lost Lagoon!   \n",
       "1            1        2000          0           Magma Peak - Level 1   \n",
       "2            1        2000          0  Sandcastle Builder (Activity)   \n",
       "3            2        3010         53  Sandcastle Builder (Activity)   \n",
       "4            3        3110       6972  Sandcastle Builder (Activity)   \n",
       "\n",
       "       type      world  \n",
       "0      Clip       NONE  \n",
       "1      Clip  MAGMAPEAK  \n",
       "2  Activity  MAGMAPEAK  \n",
       "3  Activity  MAGMAPEAK  \n",
       "4  Activity  MAGMAPEAK  "
      ]
     },
     "execution_count": 17,
     "metadata": {},
     "output_type": "execute_result"
    }
   ],
   "source": [
    "train_df.head()"
   ]
  },
  {
   "cell_type": "code",
   "execution_count": 26,
   "metadata": {},
   "outputs": [
    {
     "data": {
      "text/plain": [
       "(11341042, 11)"
      ]
     },
     "execution_count": 26,
     "metadata": {},
     "output_type": "execute_result"
    }
   ],
   "source": [
    "train_df.shape"
   ]
  },
  {
   "cell_type": "code",
   "execution_count": 27,
   "metadata": {},
   "outputs": [
    {
     "data": {
      "text/html": [
       "<div>\n",
       "<style scoped>\n",
       "    .dataframe tbody tr th:only-of-type {\n",
       "        vertical-align: middle;\n",
       "    }\n",
       "\n",
       "    .dataframe tbody tr th {\n",
       "        vertical-align: top;\n",
       "    }\n",
       "\n",
       "    .dataframe thead th {\n",
       "        text-align: right;\n",
       "    }\n",
       "</style>\n",
       "<table border=\"1\" class=\"dataframe\">\n",
       "  <thead>\n",
       "    <tr style=\"text-align: right;\">\n",
       "      <th></th>\n",
       "      <th>event_count</th>\n",
       "      <th>event_code</th>\n",
       "      <th>game_time</th>\n",
       "    </tr>\n",
       "  </thead>\n",
       "  <tbody>\n",
       "    <tr>\n",
       "      <th>count</th>\n",
       "      <td>1.134104e+07</td>\n",
       "      <td>1.134104e+07</td>\n",
       "      <td>1.134104e+07</td>\n",
       "    </tr>\n",
       "    <tr>\n",
       "      <th>mean</th>\n",
       "      <td>1.056642e+02</td>\n",
       "      <td>3.513838e+03</td>\n",
       "      <td>1.976236e+05</td>\n",
       "    </tr>\n",
       "    <tr>\n",
       "      <th>std</th>\n",
       "      <td>1.483477e+02</td>\n",
       "      <td>6.816470e+02</td>\n",
       "      <td>1.803968e+06</td>\n",
       "    </tr>\n",
       "    <tr>\n",
       "      <th>min</th>\n",
       "      <td>1.000000e+00</td>\n",
       "      <td>2.000000e+03</td>\n",
       "      <td>0.000000e+00</td>\n",
       "    </tr>\n",
       "    <tr>\n",
       "      <th>25%</th>\n",
       "      <td>2.500000e+01</td>\n",
       "      <td>3.021000e+03</td>\n",
       "      <td>3.061800e+04</td>\n",
       "    </tr>\n",
       "    <tr>\n",
       "      <th>50%</th>\n",
       "      <td>6.100000e+01</td>\n",
       "      <td>4.020000e+03</td>\n",
       "      <td>7.276100e+04</td>\n",
       "    </tr>\n",
       "    <tr>\n",
       "      <th>75%</th>\n",
       "      <td>1.290000e+02</td>\n",
       "      <td>4.035000e+03</td>\n",
       "      <td>1.574460e+05</td>\n",
       "    </tr>\n",
       "    <tr>\n",
       "      <th>max</th>\n",
       "      <td>3.368000e+03</td>\n",
       "      <td>5.010000e+03</td>\n",
       "      <td>3.069102e+08</td>\n",
       "    </tr>\n",
       "  </tbody>\n",
       "</table>\n",
       "</div>"
      ],
      "text/plain": [
       "        event_count    event_code     game_time\n",
       "count  1.134104e+07  1.134104e+07  1.134104e+07\n",
       "mean   1.056642e+02  3.513838e+03  1.976236e+05\n",
       "std    1.483477e+02  6.816470e+02  1.803968e+06\n",
       "min    1.000000e+00  2.000000e+03  0.000000e+00\n",
       "25%    2.500000e+01  3.021000e+03  3.061800e+04\n",
       "50%    6.100000e+01  4.020000e+03  7.276100e+04\n",
       "75%    1.290000e+02  4.035000e+03  1.574460e+05\n",
       "max    3.368000e+03  5.010000e+03  3.069102e+08"
      ]
     },
     "execution_count": 27,
     "metadata": {},
     "output_type": "execute_result"
    }
   ],
   "source": [
    "train_df.describe()"
   ]
  },
  {
   "cell_type": "code",
   "execution_count": 32,
   "metadata": {},
   "outputs": [
    {
     "data": {
      "text/plain": [
       "384"
      ]
     },
     "execution_count": 32,
     "metadata": {},
     "output_type": "execute_result"
    }
   ],
   "source": [
    "train_df.event_id.nunique()"
   ]
  },
  {
   "cell_type": "code",
   "execution_count": 35,
   "metadata": {},
   "outputs": [
    {
     "data": {
      "text/plain": [
       "303319"
      ]
     },
     "execution_count": 35,
     "metadata": {},
     "output_type": "execute_result"
    }
   ],
   "source": [
    "train_df.game_session.nunique()"
   ]
  },
  {
   "cell_type": "code",
   "execution_count": 37,
   "metadata": {},
   "outputs": [
    {
     "data": {
      "text/plain": [
       "'2019-07-23T02:12:17.279Z'"
      ]
     },
     "execution_count": 37,
     "metadata": {},
     "output_type": "execute_result"
    },
    {
     "data": {
      "text/plain": [
       "'2019-10-22T17:41:45.983Z'"
      ]
     },
     "execution_count": 37,
     "metadata": {},
     "output_type": "execute_result"
    }
   ],
   "source": [
    "train_df.timestamp.min()\n",
    "train_df.timestamp.max()"
   ]
  },
  {
   "cell_type": "code",
   "execution_count": 33,
   "metadata": {},
   "outputs": [
    {
     "data": {
      "text/plain": [
       "17000"
      ]
     },
     "execution_count": 33,
     "metadata": {},
     "output_type": "execute_result"
    }
   ],
   "source": [
    "train_df.installation_id.nunique()"
   ]
  },
  {
   "cell_type": "code",
   "execution_count": 34,
   "metadata": {},
   "outputs": [
    {
     "data": {
      "text/plain": [
       "3368"
      ]
     },
     "execution_count": 34,
     "metadata": {},
     "output_type": "execute_result"
    }
   ],
   "source": [
    "train_df.event_count.nunique()"
   ]
  },
  {
   "cell_type": "code",
   "execution_count": 41,
   "metadata": {},
   "outputs": [
    {
     "data": {
      "text/plain": [
       "<matplotlib.axes._subplots.AxesSubplot at 0x7efc479b2048>"
      ]
     },
     "execution_count": 41,
     "metadata": {},
     "output_type": "execute_result"
    },
    {
     "data": {
      "image/png": "[encoded data removed]",
      "text/plain": [
       "<Figure size 432x288 with 1 Axes>"
      ]
     },
     "metadata": {
      "needs_background": "light"
     },
     "output_type": "display_data"
    }
   ],
   "source": [
    "sns.distplot(train_df.event_count, )"
   ]
  },
  {
   "cell_type": "code",
   "execution_count": 40,
   "metadata": {},
   "outputs": [
    {
     "data": {
      "text/plain": [
       "<matplotlib.axes._subplots.AxesSubplot at 0x7efc47aa6550>"
      ]
     },
     "execution_count": 40,
     "metadata": {},
     "output_type": "execute_result"
    },
    {
     "data": {
      "image/png": "[encoded data removed]",
      "text/plain": [
       "<Figure size 432x288 with 1 Axes>"
      ]
     },
     "metadata": {
      "needs_background": "light"
     },
     "output_type": "display_data"
    }
   ],
   "source": [
    "sns.distplot(np.log(train_df.event_count))"
   ]
  },
  {
   "cell_type": "code",
   "execution_count": 42,
   "metadata": {},
   "outputs": [
    {
     "data": {
      "text/plain": [
       "<matplotlib.axes._subplots.AxesSubplot at 0x7efc41fe34e0>"
      ]
     },
     "execution_count": 42,
     "metadata": {},
     "output_type": "execute_result"
    },
    {
     "data": {
      "image/png": "[encoded data removed]",
      "text/plain": [
       "<Figure size 432x288 with 1 Axes>"
      ]
     },
     "metadata": {
      "needs_background": "light"
     },
     "output_type": "display_data"
    }
   ],
   "source": [
    "sns.distplot(train_df.game_time)"
   ]
  },
  {
   "cell_type": "code",
   "execution_count": 44,
   "metadata": {},
   "outputs": [
    {
     "data": {
      "text/plain": [
       "<matplotlib.axes._subplots.AxesSubplot at 0x7efc41dcbc50>"
      ]
     },
     "execution_count": 44,
     "metadata": {},
     "output_type": "execute_result"
    },
    {
     "data": {
      "image/png": "[encoded data removed]",
      "text/plain": [
       "<Figure size 432x288 with 1 Axes>"
      ]
     },
     "metadata": {
      "needs_background": "light"
     },
     "output_type": "display_data"
    }
   ],
   "source": [
    "sns.distplot(np.log1p(train_df.game_time))"
   ]
  },
  {
   "cell_type": "code",
   "execution_count": 50,
   "metadata": {},
   "outputs": [
    {
     "data": {
      "text/plain": [
       "<matplotlib.axes._subplots.AxesSubplot at 0x7efc385687f0>"
      ]
     },
     "execution_count": 50,
     "metadata": {},
     "output_type": "execute_result"
    },
    {
     "data": {
      "image/png": "[encoded data removed]",
      "text/plain": [
       "<Figure size 432x288 with 1 Axes>"
      ]
     },
     "metadata": {
      "needs_background": "light"
     },
     "output_type": "display_data"
    }
   ],
   "source": [
    "train_df.title.value_counts().plot(kind='bar')"
   ]
  },
  {
   "cell_type": "code",
   "execution_count": 49,
   "metadata": {},
   "outputs": [
    {
     "data": {
      "text/plain": [
       "<matplotlib.axes._subplots.AxesSubplot at 0x7efc3866f5f8>"
      ]
     },
     "execution_count": 49,
     "metadata": {},
     "output_type": "execute_result"
    },
    {
     "data": {
      "image/png": "[encoded data removed]",
      "text/plain": [
       "<Figure size 432x288 with 1 Axes>"
      ]
     },
     "metadata": {
      "needs_background": "light"
     },
     "output_type": "display_data"
    }
   ],
   "source": [
    "sns.countplot(y='title', data=train_df, order=train_df.title.value_counts().index)"
   ]
  },
  {
   "cell_type": "code",
   "execution_count": 51,
   "metadata": {},
   "outputs": [
    {
     "data": {
      "text/plain": [
       "<matplotlib.axes._subplots.AxesSubplot at 0x7efc3857a3c8>"
      ]
     },
     "execution_count": 51,
     "metadata": {},
     "output_type": "execute_result"
    },
    {
     "data": {
      "image/png": "[encoded data removed]",
      "text/plain": [
       "<Figure size 432x288 with 1 Axes>"
      ]
     },
     "metadata": {
      "needs_background": "light"
     },
     "output_type": "display_data"
    }
   ],
   "source": [
    "sns.countplot(x='type', data=train_df)"
   ]
  },
  {
   "cell_type": "code",
   "execution_count": 52,
   "metadata": {},
   "outputs": [
    {
     "data": {
      "text/plain": [
       "<matplotlib.axes._subplots.AxesSubplot at 0x7efc38382390>"
      ]
     },
     "execution_count": 52,
     "metadata": {},
     "output_type": "execute_result"
    },
    {
     "data": {
      "image/png": "[encoded data removed]",
      "text/plain": [
       "<Figure size 432x288 with 1 Axes>"
      ]
     },
     "metadata": {
      "needs_background": "light"
     },
     "output_type": "display_data"
    }
   ],
   "source": [
    "sns.countplot(x='world', data=train_df)"
   ]
  },
  {
   "cell_type": "code",
   "execution_count": 59,
   "metadata": {},
   "outputs": [
    {
     "data": {
      "text/plain": [
       "title                          type        world       \n",
       "Chow Time                      Game        CRYSTALCAVES    1150974\n",
       "Sandcastle Builder (Activity)  Activity    MAGMAPEAK       1034332\n",
       "Scrub-A-Dub                    Game        MAGMAPEAK       1016837\n",
       "Bottle Filler (Activity)       Activity    MAGMAPEAK       1004068\n",
       "Fireworks (Activity)           Activity    TREETOPCITY      535030\n",
       "All Star Sorting               Game        TREETOPCITY      509344\n",
       "Dino Drink                     Game        MAGMAPEAK        492916\n",
       "Bubble Bath                    Game        MAGMAPEAK        458972\n",
       "Crystals Rule                  Game        TREETOPCITY      453852\n",
       "Bug Measurer (Activity)        Activity    TREETOPCITY      446430\n",
       "Chicken Balancer (Activity)    Activity    CRYSTALCAVES     443156\n",
       "Dino Dive                      Game        MAGMAPEAK        427655\n",
       "Pan Balance                    Game        CRYSTALCAVES     384857\n",
       "Watering Hole (Activity)       Activity    MAGMAPEAK        369270\n",
       "Flower Waterer (Activity)      Activity    TREETOPCITY      356034\n",
       "Happy Camel                    Game        CRYSTALCAVES     311543\n",
       "Air Show                       Game        TREETOPCITY      306239\n",
       "Leaf Leader                    Game        CRYSTALCAVES     282104\n",
       "Egg Dropper (Activity)         Activity    CRYSTALCAVES     248408\n",
       "Mushroom Sorter (Assessment)   Assessment  TREETOPCITY      199595\n",
       "Chest Sorter (Assessment)      Assessment  CRYSTALCAVES     190318\n",
       "Bird Measurer (Assessment)     Assessment  TREETOPCITY      190164\n",
       "Cauldron Filler (Assessment)   Assessment  MAGMAPEAK        181925\n",
       "Cart Balancer (Assessment)     Assessment  CRYSTALCAVES     163343\n",
       "Welcome to Lost Lagoon!        Clip        NONE              23578\n",
       "Magma Peak - Level 2           Clip        MAGMAPEAK         17115\n",
       "Crystal Caves - Level 2        Clip        CRYSTALCAVES      14342\n",
       "Magma Peak - Level 1           Clip        MAGMAPEAK         13623\n",
       "Tree Top City - Level 2        Clip        TREETOPCITY       12685\n",
       "Crystal Caves - Level 1        Clip        CRYSTALCAVES      12505\n",
       "Crystal Caves - Level 3        Clip        CRYSTALCAVES      12482\n",
       "Tree Top City - Level 1        Clip        TREETOPCITY       12333\n",
       "Tree Top City - Level 3        Clip        TREETOPCITY       10516\n",
       "Ordering Spheres               Clip        TREETOPCITY        9758\n",
       "Slop Problem                   Clip        MAGMAPEAK          6974\n",
       "Lifting Heavy Things           Clip        CRYSTALCAVES       5759\n",
       "Balancing Act                  Clip        CRYSTALCAVES       5522\n",
       "Costume Box                    Clip        TREETOPCITY        4538\n",
       "Pirate's Tale                  Clip        TREETOPCITY        4365\n",
       "12 Monkeys                     Clip        TREETOPCITY        4124\n",
       "Honey Cake                     Clip        CRYSTALCAVES       3882\n",
       "Rulers                         Clip        TREETOPCITY        3372\n",
       "Heavy, Heavier, Heaviest       Clip        CRYSTALCAVES       3351\n",
       "Treasure Map                   Clip        TREETOPCITY        2852\n",
       "Name: event_id, dtype: int64"
      ]
     },
     "execution_count": 59,
     "metadata": {},
     "output_type": "execute_result"
    }
   ],
   "source": [
    "train_df.groupby(['title', 'type', 'world'])['event_id'].count().sort_values(ascending=False)"
   ]
  },
  {
   "cell_type": "code",
   "execution_count": 93,
   "metadata": {},
   "outputs": [
    {
     "data": {
      "text/html": [
       "<div>\n",
       "<style scoped>\n",
       "    .dataframe tbody tr th:only-of-type {\n",
       "        vertical-align: middle;\n",
       "    }\n",
       "\n",
       "    .dataframe tbody tr th {\n",
       "        vertical-align: top;\n",
       "    }\n",
       "\n",
       "    .dataframe thead th {\n",
       "        text-align: right;\n",
       "    }\n",
       "</style>\n",
       "<table border=\"1\" class=\"dataframe\">\n",
       "  <thead>\n",
       "    <tr style=\"text-align: right;\">\n",
       "      <th></th>\n",
       "      <th>event_id</th>\n",
       "      <th>game_session</th>\n",
       "      <th>timestamp</th>\n",
       "      <th>event_data</th>\n",
       "      <th>installation_id</th>\n",
       "      <th>event_count</th>\n",
       "      <th>event_code</th>\n",
       "      <th>game_time</th>\n",
       "      <th>title</th>\n",
       "      <th>type</th>\n",
       "      <th>world</th>\n",
       "    </tr>\n",
       "  </thead>\n",
       "  <tbody>\n",
       "    <tr>\n",
       "      <th>2228</th>\n",
       "      <td>25fa8af4</td>\n",
       "      <td>901acc108f55a5a1</td>\n",
       "      <td>2019-08-06T05:22:32.357Z</td>\n",
       "      <td>{\"correct\":true,\"stumps\":[1,2,4],\"event_count\"...</td>\n",
       "      <td>0006a69f</td>\n",
       "      <td>44</td>\n",
       "      <td>4100</td>\n",
       "      <td>31011</td>\n",
       "      <td>Mushroom Sorter (Assessment)</td>\n",
       "      <td>Assessment</td>\n",
       "      <td>TREETOPCITY</td>\n",
       "    </tr>\n",
       "  </tbody>\n",
       "</table>\n",
       "</div>"
      ],
      "text/plain": [
       "      event_id      game_session                 timestamp  \\\n",
       "2228  25fa8af4  901acc108f55a5a1  2019-08-06T05:22:32.357Z   \n",
       "\n",
       "                                             event_data installation_id  \\\n",
       "2228  {\"correct\":true,\"stumps\":[1,2,4],\"event_count\"...        0006a69f   \n",
       "\n",
       "      event_count  event_code  game_time                         title  \\\n",
       "2228           44        4100      31011  Mushroom Sorter (Assessment)   \n",
       "\n",
       "            type        world  \n",
       "2228  Assessment  TREETOPCITY  "
      ]
     },
     "execution_count": 93,
     "metadata": {},
     "output_type": "execute_result"
    }
   ],
   "source": [
    "train_df.query('game_session==\"901acc108f55a5a1\" & event_code==4100')"
   ]
  },
  {
   "cell_type": "code",
   "execution_count": 62,
   "metadata": {},
   "outputs": [
    {
     "data": {
      "text/html": [
       "<div>\n",
       "<style scoped>\n",
       "    .dataframe tbody tr th:only-of-type {\n",
       "        vertical-align: middle;\n",
       "    }\n",
       "\n",
       "    .dataframe tbody tr th {\n",
       "        vertical-align: top;\n",
       "    }\n",
       "\n",
       "    .dataframe thead th {\n",
       "        text-align: right;\n",
       "    }\n",
       "</style>\n",
       "<table border=\"1\" class=\"dataframe\">\n",
       "  <thead>\n",
       "    <tr style=\"text-align: right;\">\n",
       "      <th></th>\n",
       "      <th>event_id</th>\n",
       "      <th>game_session</th>\n",
       "      <th>timestamp</th>\n",
       "      <th>event_data</th>\n",
       "      <th>installation_id</th>\n",
       "      <th>event_count</th>\n",
       "      <th>event_code</th>\n",
       "      <th>game_time</th>\n",
       "      <th>title</th>\n",
       "      <th>type</th>\n",
       "      <th>world</th>\n",
       "    </tr>\n",
       "  </thead>\n",
       "  <tbody>\n",
       "    <tr>\n",
       "      <th>2</th>\n",
       "      <td>77261ab5</td>\n",
       "      <td>0848ef14a8dc6892</td>\n",
       "      <td>2019-09-06T17:54:56.302Z</td>\n",
       "      <td>{\"version\":\"1.0\",\"event_count\":1,\"game_time\":0...</td>\n",
       "      <td>0001e90f</td>\n",
       "      <td>1</td>\n",
       "      <td>2000</td>\n",
       "      <td>0</td>\n",
       "      <td>Sandcastle Builder (Activity)</td>\n",
       "      <td>Activity</td>\n",
       "      <td>MAGMAPEAK</td>\n",
       "    </tr>\n",
       "    <tr>\n",
       "      <th>3</th>\n",
       "      <td>b2dba42b</td>\n",
       "      <td>0848ef14a8dc6892</td>\n",
       "      <td>2019-09-06T17:54:56.387Z</td>\n",
       "      <td>{\"description\":\"Let's build a sandcastle! Firs...</td>\n",
       "      <td>0001e90f</td>\n",
       "      <td>2</td>\n",
       "      <td>3010</td>\n",
       "      <td>53</td>\n",
       "      <td>Sandcastle Builder (Activity)</td>\n",
       "      <td>Activity</td>\n",
       "      <td>MAGMAPEAK</td>\n",
       "    </tr>\n",
       "    <tr>\n",
       "      <th>4</th>\n",
       "      <td>1bb5fbdb</td>\n",
       "      <td>0848ef14a8dc6892</td>\n",
       "      <td>2019-09-06T17:55:03.253Z</td>\n",
       "      <td>{\"description\":\"Let's build a sandcastle! Firs...</td>\n",
       "      <td>0001e90f</td>\n",
       "      <td>3</td>\n",
       "      <td>3110</td>\n",
       "      <td>6972</td>\n",
       "      <td>Sandcastle Builder (Activity)</td>\n",
       "      <td>Activity</td>\n",
       "      <td>MAGMAPEAK</td>\n",
       "    </tr>\n",
       "    <tr>\n",
       "      <th>5</th>\n",
       "      <td>1325467d</td>\n",
       "      <td>0848ef14a8dc6892</td>\n",
       "      <td>2019-09-06T17:55:06.279Z</td>\n",
       "      <td>{\"coordinates\":{\"x\":583,\"y\":605,\"stage_width\":...</td>\n",
       "      <td>0001e90f</td>\n",
       "      <td>4</td>\n",
       "      <td>4070</td>\n",
       "      <td>9991</td>\n",
       "      <td>Sandcastle Builder (Activity)</td>\n",
       "      <td>Activity</td>\n",
       "      <td>MAGMAPEAK</td>\n",
       "    </tr>\n",
       "    <tr>\n",
       "      <th>6</th>\n",
       "      <td>1325467d</td>\n",
       "      <td>0848ef14a8dc6892</td>\n",
       "      <td>2019-09-06T17:55:06.913Z</td>\n",
       "      <td>{\"coordinates\":{\"x\":601,\"y\":570,\"stage_width\":...</td>\n",
       "      <td>0001e90f</td>\n",
       "      <td>5</td>\n",
       "      <td>4070</td>\n",
       "      <td>10622</td>\n",
       "      <td>Sandcastle Builder (Activity)</td>\n",
       "      <td>Activity</td>\n",
       "      <td>MAGMAPEAK</td>\n",
       "    </tr>\n",
       "    <tr>\n",
       "      <th>7</th>\n",
       "      <td>1325467d</td>\n",
       "      <td>0848ef14a8dc6892</td>\n",
       "      <td>2019-09-06T17:55:07.546Z</td>\n",
       "      <td>{\"coordinates\":{\"x\":250,\"y\":665,\"stage_width\":...</td>\n",
       "      <td>0001e90f</td>\n",
       "      <td>6</td>\n",
       "      <td>4070</td>\n",
       "      <td>11255</td>\n",
       "      <td>Sandcastle Builder (Activity)</td>\n",
       "      <td>Activity</td>\n",
       "      <td>MAGMAPEAK</td>\n",
       "    </tr>\n",
       "    <tr>\n",
       "      <th>8</th>\n",
       "      <td>1325467d</td>\n",
       "      <td>0848ef14a8dc6892</td>\n",
       "      <td>2019-09-06T17:55:07.979Z</td>\n",
       "      <td>{\"coordinates\":{\"x\":279,\"y\":629,\"stage_width\":...</td>\n",
       "      <td>0001e90f</td>\n",
       "      <td>7</td>\n",
       "      <td>4070</td>\n",
       "      <td>11689</td>\n",
       "      <td>Sandcastle Builder (Activity)</td>\n",
       "      <td>Activity</td>\n",
       "      <td>MAGMAPEAK</td>\n",
       "    </tr>\n",
       "    <tr>\n",
       "      <th>9</th>\n",
       "      <td>1325467d</td>\n",
       "      <td>0848ef14a8dc6892</td>\n",
       "      <td>2019-09-06T17:55:08.566Z</td>\n",
       "      <td>{\"coordinates\":{\"x\":839,\"y\":654,\"stage_width\":...</td>\n",
       "      <td>0001e90f</td>\n",
       "      <td>8</td>\n",
       "      <td>4070</td>\n",
       "      <td>12272</td>\n",
       "      <td>Sandcastle Builder (Activity)</td>\n",
       "      <td>Activity</td>\n",
       "      <td>MAGMAPEAK</td>\n",
       "    </tr>\n",
       "    <tr>\n",
       "      <th>10</th>\n",
       "      <td>1325467d</td>\n",
       "      <td>0848ef14a8dc6892</td>\n",
       "      <td>2019-09-06T17:55:08.966Z</td>\n",
       "      <td>{\"coordinates\":{\"x\":807,\"y\":619,\"stage_width\":...</td>\n",
       "      <td>0001e90f</td>\n",
       "      <td>9</td>\n",
       "      <td>4070</td>\n",
       "      <td>12672</td>\n",
       "      <td>Sandcastle Builder (Activity)</td>\n",
       "      <td>Activity</td>\n",
       "      <td>MAGMAPEAK</td>\n",
       "    </tr>\n",
       "    <tr>\n",
       "      <th>11</th>\n",
       "      <td>1325467d</td>\n",
       "      <td>0848ef14a8dc6892</td>\n",
       "      <td>2019-09-06T17:55:09.673Z</td>\n",
       "      <td>{\"coordinates\":{\"x\":810,\"y\":611,\"stage_width\":...</td>\n",
       "      <td>0001e90f</td>\n",
       "      <td>10</td>\n",
       "      <td>4070</td>\n",
       "      <td>13389</td>\n",
       "      <td>Sandcastle Builder (Activity)</td>\n",
       "      <td>Activity</td>\n",
       "      <td>MAGMAPEAK</td>\n",
       "    </tr>\n",
       "    <tr>\n",
       "      <th>12</th>\n",
       "      <td>1325467d</td>\n",
       "      <td>0848ef14a8dc6892</td>\n",
       "      <td>2019-09-06T17:55:09.930Z</td>\n",
       "      <td>{\"coordinates\":{\"x\":827,\"y\":584,\"stage_width\":...</td>\n",
       "      <td>0001e90f</td>\n",
       "      <td>11</td>\n",
       "      <td>4070</td>\n",
       "      <td>13639</td>\n",
       "      <td>Sandcastle Builder (Activity)</td>\n",
       "      <td>Activity</td>\n",
       "      <td>MAGMAPEAK</td>\n",
       "    </tr>\n",
       "    <tr>\n",
       "      <th>13</th>\n",
       "      <td>1325467d</td>\n",
       "      <td>0848ef14a8dc6892</td>\n",
       "      <td>2019-09-06T17:55:10.157Z</td>\n",
       "      <td>{\"coordinates\":{\"x\":823,\"y\":615,\"stage_width\":...</td>\n",
       "      <td>0001e90f</td>\n",
       "      <td>12</td>\n",
       "      <td>4070</td>\n",
       "      <td>13872</td>\n",
       "      <td>Sandcastle Builder (Activity)</td>\n",
       "      <td>Activity</td>\n",
       "      <td>MAGMAPEAK</td>\n",
       "    </tr>\n",
       "    <tr>\n",
       "      <th>14</th>\n",
       "      <td>1325467d</td>\n",
       "      <td>0848ef14a8dc6892</td>\n",
       "      <td>2019-09-06T17:55:10.414Z</td>\n",
       "      <td>{\"coordinates\":{\"x\":832,\"y\":614,\"stage_width\":...</td>\n",
       "      <td>0001e90f</td>\n",
       "      <td>13</td>\n",
       "      <td>4070</td>\n",
       "      <td>14122</td>\n",
       "      <td>Sandcastle Builder (Activity)</td>\n",
       "      <td>Activity</td>\n",
       "      <td>MAGMAPEAK</td>\n",
       "    </tr>\n",
       "    <tr>\n",
       "      <th>15</th>\n",
       "      <td>1325467d</td>\n",
       "      <td>0848ef14a8dc6892</td>\n",
       "      <td>2019-09-06T17:55:10.648Z</td>\n",
       "      <td>{\"coordinates\":{\"x\":875,\"y\":631,\"stage_width\":...</td>\n",
       "      <td>0001e90f</td>\n",
       "      <td>14</td>\n",
       "      <td>4070</td>\n",
       "      <td>14356</td>\n",
       "      <td>Sandcastle Builder (Activity)</td>\n",
       "      <td>Activity</td>\n",
       "      <td>MAGMAPEAK</td>\n",
       "    </tr>\n",
       "    <tr>\n",
       "      <th>16</th>\n",
       "      <td>1325467d</td>\n",
       "      <td>0848ef14a8dc6892</td>\n",
       "      <td>2019-09-06T17:55:10.911Z</td>\n",
       "      <td>{\"coordinates\":{\"x\":871,\"y\":637,\"stage_width\":...</td>\n",
       "      <td>0001e90f</td>\n",
       "      <td>15</td>\n",
       "      <td>4070</td>\n",
       "      <td>14622</td>\n",
       "      <td>Sandcastle Builder (Activity)</td>\n",
       "      <td>Activity</td>\n",
       "      <td>MAGMAPEAK</td>\n",
       "    </tr>\n",
       "    <tr>\n",
       "      <th>17</th>\n",
       "      <td>1325467d</td>\n",
       "      <td>0848ef14a8dc6892</td>\n",
       "      <td>2019-09-06T17:55:11.178Z</td>\n",
       "      <td>{\"coordinates\":{\"x\":890,\"y\":645,\"stage_width\":...</td>\n",
       "      <td>0001e90f</td>\n",
       "      <td>16</td>\n",
       "      <td>4070</td>\n",
       "      <td>14889</td>\n",
       "      <td>Sandcastle Builder (Activity)</td>\n",
       "      <td>Activity</td>\n",
       "      <td>MAGMAPEAK</td>\n",
       "    </tr>\n",
       "    <tr>\n",
       "      <th>18</th>\n",
       "      <td>b2dba42b</td>\n",
       "      <td>0848ef14a8dc6892</td>\n",
       "      <td>2019-09-06T17:55:11.246Z</td>\n",
       "      <td>{\"description\":\"Drag the shovel to the molds t...</td>\n",
       "      <td>0001e90f</td>\n",
       "      <td>17</td>\n",
       "      <td>3010</td>\n",
       "      <td>14956</td>\n",
       "      <td>Sandcastle Builder (Activity)</td>\n",
       "      <td>Activity</td>\n",
       "      <td>MAGMAPEAK</td>\n",
       "    </tr>\n",
       "    <tr>\n",
       "      <th>19</th>\n",
       "      <td>1325467d</td>\n",
       "      <td>0848ef14a8dc6892</td>\n",
       "      <td>2019-09-06T17:55:11.592Z</td>\n",
       "      <td>{\"coordinates\":{\"x\":866,\"y\":650,\"stage_width\":...</td>\n",
       "      <td>0001e90f</td>\n",
       "      <td>18</td>\n",
       "      <td>4070</td>\n",
       "      <td>15306</td>\n",
       "      <td>Sandcastle Builder (Activity)</td>\n",
       "      <td>Activity</td>\n",
       "      <td>MAGMAPEAK</td>\n",
       "    </tr>\n",
       "    <tr>\n",
       "      <th>20</th>\n",
       "      <td>1325467d</td>\n",
       "      <td>0848ef14a8dc6892</td>\n",
       "      <td>2019-09-06T17:55:11.829Z</td>\n",
       "      <td>{\"coordinates\":{\"x\":876,\"y\":670,\"stage_width\":...</td>\n",
       "      <td>0001e90f</td>\n",
       "      <td>19</td>\n",
       "      <td>4070</td>\n",
       "      <td>15539</td>\n",
       "      <td>Sandcastle Builder (Activity)</td>\n",
       "      <td>Activity</td>\n",
       "      <td>MAGMAPEAK</td>\n",
       "    </tr>\n",
       "    <tr>\n",
       "      <th>21</th>\n",
       "      <td>1325467d</td>\n",
       "      <td>0848ef14a8dc6892</td>\n",
       "      <td>2019-09-06T17:55:12.381Z</td>\n",
       "      <td>{\"coordinates\":{\"x\":564,\"y\":576,\"stage_width\":...</td>\n",
       "      <td>0001e90f</td>\n",
       "      <td>20</td>\n",
       "      <td>4070</td>\n",
       "      <td>16089</td>\n",
       "      <td>Sandcastle Builder (Activity)</td>\n",
       "      <td>Activity</td>\n",
       "      <td>MAGMAPEAK</td>\n",
       "    </tr>\n",
       "    <tr>\n",
       "      <th>22</th>\n",
       "      <td>1325467d</td>\n",
       "      <td>0848ef14a8dc6892</td>\n",
       "      <td>2019-09-06T17:55:12.963Z</td>\n",
       "      <td>{\"coordinates\":{\"x\":573,\"y\":570,\"stage_width\":...</td>\n",
       "      <td>0001e90f</td>\n",
       "      <td>21</td>\n",
       "      <td>4070</td>\n",
       "      <td>16672</td>\n",
       "      <td>Sandcastle Builder (Activity)</td>\n",
       "      <td>Activity</td>\n",
       "      <td>MAGMAPEAK</td>\n",
       "    </tr>\n",
       "    <tr>\n",
       "      <th>23</th>\n",
       "      <td>1bb5fbdb</td>\n",
       "      <td>0848ef14a8dc6892</td>\n",
       "      <td>2019-09-06T17:55:13.335Z</td>\n",
       "      <td>{\"description\":\"Drag the shovel to the molds t...</td>\n",
       "      <td>0001e90f</td>\n",
       "      <td>22</td>\n",
       "      <td>3110</td>\n",
       "      <td>17056</td>\n",
       "      <td>Sandcastle Builder (Activity)</td>\n",
       "      <td>Activity</td>\n",
       "      <td>MAGMAPEAK</td>\n",
       "    </tr>\n",
       "    <tr>\n",
       "      <th>24</th>\n",
       "      <td>1325467d</td>\n",
       "      <td>0848ef14a8dc6892</td>\n",
       "      <td>2019-09-06T17:55:13.582Z</td>\n",
       "      <td>{\"coordinates\":{\"x\":570,\"y\":542,\"stage_width\":...</td>\n",
       "      <td>0001e90f</td>\n",
       "      <td>23</td>\n",
       "      <td>4070</td>\n",
       "      <td>17289</td>\n",
       "      <td>Sandcastle Builder (Activity)</td>\n",
       "      <td>Activity</td>\n",
       "      <td>MAGMAPEAK</td>\n",
       "    </tr>\n",
       "    <tr>\n",
       "      <th>25</th>\n",
       "      <td>1325467d</td>\n",
       "      <td>0848ef14a8dc6892</td>\n",
       "      <td>2019-09-06T17:55:13.782Z</td>\n",
       "      <td>{\"coordinates\":{\"x\":594,\"y\":532,\"stage_width\":...</td>\n",
       "      <td>0001e90f</td>\n",
       "      <td>24</td>\n",
       "      <td>4070</td>\n",
       "      <td>17489</td>\n",
       "      <td>Sandcastle Builder (Activity)</td>\n",
       "      <td>Activity</td>\n",
       "      <td>MAGMAPEAK</td>\n",
       "    </tr>\n",
       "    <tr>\n",
       "      <th>26</th>\n",
       "      <td>1325467d</td>\n",
       "      <td>0848ef14a8dc6892</td>\n",
       "      <td>2019-09-06T17:55:14.138Z</td>\n",
       "      <td>{\"coordinates\":{\"x\":438,\"y\":594,\"stage_width\":...</td>\n",
       "      <td>0001e90f</td>\n",
       "      <td>25</td>\n",
       "      <td>4070</td>\n",
       "      <td>17839</td>\n",
       "      <td>Sandcastle Builder (Activity)</td>\n",
       "      <td>Activity</td>\n",
       "      <td>MAGMAPEAK</td>\n",
       "    </tr>\n",
       "    <tr>\n",
       "      <th>27</th>\n",
       "      <td>1325467d</td>\n",
       "      <td>0848ef14a8dc6892</td>\n",
       "      <td>2019-09-06T17:55:14.380Z</td>\n",
       "      <td>{\"coordinates\":{\"x\":271,\"y\":645,\"stage_width\":...</td>\n",
       "      <td>0001e90f</td>\n",
       "      <td>26</td>\n",
       "      <td>4070</td>\n",
       "      <td>18093</td>\n",
       "      <td>Sandcastle Builder (Activity)</td>\n",
       "      <td>Activity</td>\n",
       "      <td>MAGMAPEAK</td>\n",
       "    </tr>\n",
       "    <tr>\n",
       "      <th>28</th>\n",
       "      <td>1325467d</td>\n",
       "      <td>0848ef14a8dc6892</td>\n",
       "      <td>2019-09-06T17:55:14.555Z</td>\n",
       "      <td>{\"coordinates\":{\"x\":256,\"y\":637,\"stage_width\":...</td>\n",
       "      <td>0001e90f</td>\n",
       "      <td>27</td>\n",
       "      <td>4070</td>\n",
       "      <td>18273</td>\n",
       "      <td>Sandcastle Builder (Activity)</td>\n",
       "      <td>Activity</td>\n",
       "      <td>MAGMAPEAK</td>\n",
       "    </tr>\n",
       "    <tr>\n",
       "      <th>29</th>\n",
       "      <td>1325467d</td>\n",
       "      <td>0848ef14a8dc6892</td>\n",
       "      <td>2019-09-06T17:55:14.864Z</td>\n",
       "      <td>{\"coordinates\":{\"x\":279,\"y\":614,\"stage_width\":...</td>\n",
       "      <td>0001e90f</td>\n",
       "      <td>28</td>\n",
       "      <td>4070</td>\n",
       "      <td>18573</td>\n",
       "      <td>Sandcastle Builder (Activity)</td>\n",
       "      <td>Activity</td>\n",
       "      <td>MAGMAPEAK</td>\n",
       "    </tr>\n",
       "    <tr>\n",
       "      <th>30</th>\n",
       "      <td>b2dba42b</td>\n",
       "      <td>0848ef14a8dc6892</td>\n",
       "      <td>2019-09-06T17:55:15.247Z</td>\n",
       "      <td>{\"description\":\"When you're all done, tap this...</td>\n",
       "      <td>0001e90f</td>\n",
       "      <td>29</td>\n",
       "      <td>3010</td>\n",
       "      <td>18956</td>\n",
       "      <td>Sandcastle Builder (Activity)</td>\n",
       "      <td>Activity</td>\n",
       "      <td>MAGMAPEAK</td>\n",
       "    </tr>\n",
       "    <tr>\n",
       "      <th>31</th>\n",
       "      <td>1325467d</td>\n",
       "      <td>0848ef14a8dc6892</td>\n",
       "      <td>2019-09-06T17:55:16.065Z</td>\n",
       "      <td>{\"coordinates\":{\"x\":548,\"y\":575,\"stage_width\":...</td>\n",
       "      <td>0001e90f</td>\n",
       "      <td>30</td>\n",
       "      <td>4070</td>\n",
       "      <td>19773</td>\n",
       "      <td>Sandcastle Builder (Activity)</td>\n",
       "      <td>Activity</td>\n",
       "      <td>MAGMAPEAK</td>\n",
       "    </tr>\n",
       "    <tr>\n",
       "      <th>...</th>\n",
       "      <td>...</td>\n",
       "      <td>...</td>\n",
       "      <td>...</td>\n",
       "      <td>...</td>\n",
       "      <td>...</td>\n",
       "      <td>...</td>\n",
       "      <td>...</td>\n",
       "      <td>...</td>\n",
       "      <td>...</td>\n",
       "      <td>...</td>\n",
       "      <td>...</td>\n",
       "    </tr>\n",
       "    <tr>\n",
       "      <th>239</th>\n",
       "      <td>84538528</td>\n",
       "      <td>0848ef14a8dc6892</td>\n",
       "      <td>2019-09-06T17:57:32.792Z</td>\n",
       "      <td>{\"size\":1,\"castles_placed\":[{\"size\":2,\"positio...</td>\n",
       "      <td>0001e90f</td>\n",
       "      <td>238</td>\n",
       "      <td>4020</td>\n",
       "      <td>156516</td>\n",
       "      <td>Sandcastle Builder (Activity)</td>\n",
       "      <td>Activity</td>\n",
       "      <td>MAGMAPEAK</td>\n",
       "    </tr>\n",
       "    <tr>\n",
       "      <th>240</th>\n",
       "      <td>b2dba42b</td>\n",
       "      <td>0848ef14a8dc6892</td>\n",
       "      <td>2019-09-06T17:57:32.792Z</td>\n",
       "      <td>{\"description\":\"So cool!\",\"identifier\":\"Dot_So...</td>\n",
       "      <td>0001e90f</td>\n",
       "      <td>239</td>\n",
       "      <td>3010</td>\n",
       "      <td>156516</td>\n",
       "      <td>Sandcastle Builder (Activity)</td>\n",
       "      <td>Activity</td>\n",
       "      <td>MAGMAPEAK</td>\n",
       "    </tr>\n",
       "    <tr>\n",
       "      <th>241</th>\n",
       "      <td>1bb5fbdb</td>\n",
       "      <td>0848ef14a8dc6892</td>\n",
       "      <td>2019-09-06T17:57:34.009Z</td>\n",
       "      <td>{\"description\":\"So cool!\",\"identifier\":\"Dot_So...</td>\n",
       "      <td>0001e90f</td>\n",
       "      <td>240</td>\n",
       "      <td>3110</td>\n",
       "      <td>157733</td>\n",
       "      <td>Sandcastle Builder (Activity)</td>\n",
       "      <td>Activity</td>\n",
       "      <td>MAGMAPEAK</td>\n",
       "    </tr>\n",
       "    <tr>\n",
       "      <th>242</th>\n",
       "      <td>1325467d</td>\n",
       "      <td>0848ef14a8dc6892</td>\n",
       "      <td>2019-09-06T17:57:34.739Z</td>\n",
       "      <td>{\"coordinates\":{\"x\":249,\"y\":611,\"stage_width\":...</td>\n",
       "      <td>0001e90f</td>\n",
       "      <td>241</td>\n",
       "      <td>4070</td>\n",
       "      <td>158449</td>\n",
       "      <td>Sandcastle Builder (Activity)</td>\n",
       "      <td>Activity</td>\n",
       "      <td>MAGMAPEAK</td>\n",
       "    </tr>\n",
       "    <tr>\n",
       "      <th>243</th>\n",
       "      <td>1325467d</td>\n",
       "      <td>0848ef14a8dc6892</td>\n",
       "      <td>2019-09-06T17:57:41.578Z</td>\n",
       "      <td>{\"coordinates\":{\"x\":878,\"y\":195,\"stage_width\":...</td>\n",
       "      <td>0001e90f</td>\n",
       "      <td>242</td>\n",
       "      <td>4070</td>\n",
       "      <td>165284</td>\n",
       "      <td>Sandcastle Builder (Activity)</td>\n",
       "      <td>Activity</td>\n",
       "      <td>MAGMAPEAK</td>\n",
       "    </tr>\n",
       "    <tr>\n",
       "      <th>244</th>\n",
       "      <td>5e812b27</td>\n",
       "      <td>0848ef14a8dc6892</td>\n",
       "      <td>2019-09-06T17:57:42.308Z</td>\n",
       "      <td>{\"size\":0,\"coordinates\":{\"x\":782,\"y\":207,\"stag...</td>\n",
       "      <td>0001e90f</td>\n",
       "      <td>243</td>\n",
       "      <td>4030</td>\n",
       "      <td>166017</td>\n",
       "      <td>Sandcastle Builder (Activity)</td>\n",
       "      <td>Activity</td>\n",
       "      <td>MAGMAPEAK</td>\n",
       "    </tr>\n",
       "    <tr>\n",
       "      <th>245</th>\n",
       "      <td>c58186bf</td>\n",
       "      <td>0848ef14a8dc6892</td>\n",
       "      <td>2019-09-06T17:57:45.994Z</td>\n",
       "      <td>{\"size\":0,\"coordinates\":{\"x\":821,\"y\":694,\"stag...</td>\n",
       "      <td>0001e90f</td>\n",
       "      <td>244</td>\n",
       "      <td>4035</td>\n",
       "      <td>169717</td>\n",
       "      <td>Sandcastle Builder (Activity)</td>\n",
       "      <td>Activity</td>\n",
       "      <td>MAGMAPEAK</td>\n",
       "    </tr>\n",
       "    <tr>\n",
       "      <th>246</th>\n",
       "      <td>5e812b27</td>\n",
       "      <td>0848ef14a8dc6892</td>\n",
       "      <td>2019-09-06T17:57:48.572Z</td>\n",
       "      <td>{\"size\":0,\"coordinates\":{\"x\":782,\"y\":207,\"stag...</td>\n",
       "      <td>0001e90f</td>\n",
       "      <td>245</td>\n",
       "      <td>4030</td>\n",
       "      <td>172284</td>\n",
       "      <td>Sandcastle Builder (Activity)</td>\n",
       "      <td>Activity</td>\n",
       "      <td>MAGMAPEAK</td>\n",
       "    </tr>\n",
       "    <tr>\n",
       "      <th>247</th>\n",
       "      <td>c58186bf</td>\n",
       "      <td>0848ef14a8dc6892</td>\n",
       "      <td>2019-09-06T17:57:49.775Z</td>\n",
       "      <td>{\"size\":0,\"coordinates\":{\"x\":156,\"y\":194,\"stag...</td>\n",
       "      <td>0001e90f</td>\n",
       "      <td>246</td>\n",
       "      <td>4035</td>\n",
       "      <td>173501</td>\n",
       "      <td>Sandcastle Builder (Activity)</td>\n",
       "      <td>Activity</td>\n",
       "      <td>MAGMAPEAK</td>\n",
       "    </tr>\n",
       "    <tr>\n",
       "      <th>248</th>\n",
       "      <td>5e812b27</td>\n",
       "      <td>0848ef14a8dc6892</td>\n",
       "      <td>2019-09-06T17:57:51.358Z</td>\n",
       "      <td>{\"size\":0,\"coordinates\":{\"x\":782,\"y\":207,\"stag...</td>\n",
       "      <td>0001e90f</td>\n",
       "      <td>247</td>\n",
       "      <td>4030</td>\n",
       "      <td>175067</td>\n",
       "      <td>Sandcastle Builder (Activity)</td>\n",
       "      <td>Activity</td>\n",
       "      <td>MAGMAPEAK</td>\n",
       "    </tr>\n",
       "    <tr>\n",
       "      <th>249</th>\n",
       "      <td>1325467d</td>\n",
       "      <td>0848ef14a8dc6892</td>\n",
       "      <td>2019-09-06T17:57:52.138Z</td>\n",
       "      <td>{\"coordinates\":{\"x\":440,\"y\":396,\"stage_width\":...</td>\n",
       "      <td>0001e90f</td>\n",
       "      <td>248</td>\n",
       "      <td>4070</td>\n",
       "      <td>175851</td>\n",
       "      <td>Sandcastle Builder (Activity)</td>\n",
       "      <td>Activity</td>\n",
       "      <td>MAGMAPEAK</td>\n",
       "    </tr>\n",
       "    <tr>\n",
       "      <th>250</th>\n",
       "      <td>c58186bf</td>\n",
       "      <td>0848ef14a8dc6892</td>\n",
       "      <td>2019-09-06T17:57:52.154Z</td>\n",
       "      <td>{\"size\":0,\"coordinates\":{\"x\":111,\"y\":305,\"stag...</td>\n",
       "      <td>0001e90f</td>\n",
       "      <td>249</td>\n",
       "      <td>4035</td>\n",
       "      <td>175882</td>\n",
       "      <td>Sandcastle Builder (Activity)</td>\n",
       "      <td>Activity</td>\n",
       "      <td>MAGMAPEAK</td>\n",
       "    </tr>\n",
       "    <tr>\n",
       "      <th>251</th>\n",
       "      <td>1325467d</td>\n",
       "      <td>0848ef14a8dc6892</td>\n",
       "      <td>2019-09-06T17:57:52.213Z</td>\n",
       "      <td>{\"coordinates\":{\"x\":426,\"y\":381,\"stage_width\":...</td>\n",
       "      <td>0001e90f</td>\n",
       "      <td>250</td>\n",
       "      <td>4070</td>\n",
       "      <td>175934</td>\n",
       "      <td>Sandcastle Builder (Activity)</td>\n",
       "      <td>Activity</td>\n",
       "      <td>MAGMAPEAK</td>\n",
       "    </tr>\n",
       "    <tr>\n",
       "      <th>252</th>\n",
       "      <td>5e812b27</td>\n",
       "      <td>0848ef14a8dc6892</td>\n",
       "      <td>2019-09-06T17:57:53.799Z</td>\n",
       "      <td>{\"size\":0,\"coordinates\":{\"x\":782,\"y\":207,\"stag...</td>\n",
       "      <td>0001e90f</td>\n",
       "      <td>251</td>\n",
       "      <td>4030</td>\n",
       "      <td>177501</td>\n",
       "      <td>Sandcastle Builder (Activity)</td>\n",
       "      <td>Activity</td>\n",
       "      <td>MAGMAPEAK</td>\n",
       "    </tr>\n",
       "    <tr>\n",
       "      <th>253</th>\n",
       "      <td>c58186bf</td>\n",
       "      <td>0848ef14a8dc6892</td>\n",
       "      <td>2019-09-06T17:57:54.460Z</td>\n",
       "      <td>{\"size\":0,\"coordinates\":{\"x\":764,\"y\":126,\"stag...</td>\n",
       "      <td>0001e90f</td>\n",
       "      <td>252</td>\n",
       "      <td>4035</td>\n",
       "      <td>178184</td>\n",
       "      <td>Sandcastle Builder (Activity)</td>\n",
       "      <td>Activity</td>\n",
       "      <td>MAGMAPEAK</td>\n",
       "    </tr>\n",
       "    <tr>\n",
       "      <th>254</th>\n",
       "      <td>1325467d</td>\n",
       "      <td>0848ef14a8dc6892</td>\n",
       "      <td>2019-09-06T17:57:55.325Z</td>\n",
       "      <td>{\"coordinates\":{\"x\":869,\"y\":167,\"stage_width\":...</td>\n",
       "      <td>0001e90f</td>\n",
       "      <td>253</td>\n",
       "      <td>4070</td>\n",
       "      <td>179034</td>\n",
       "      <td>Sandcastle Builder (Activity)</td>\n",
       "      <td>Activity</td>\n",
       "      <td>MAGMAPEAK</td>\n",
       "    </tr>\n",
       "    <tr>\n",
       "      <th>255</th>\n",
       "      <td>5e812b27</td>\n",
       "      <td>0848ef14a8dc6892</td>\n",
       "      <td>2019-09-06T17:57:56.138Z</td>\n",
       "      <td>{\"size\":0,\"coordinates\":{\"x\":782,\"y\":207,\"stag...</td>\n",
       "      <td>0001e90f</td>\n",
       "      <td>254</td>\n",
       "      <td>4030</td>\n",
       "      <td>179851</td>\n",
       "      <td>Sandcastle Builder (Activity)</td>\n",
       "      <td>Activity</td>\n",
       "      <td>MAGMAPEAK</td>\n",
       "    </tr>\n",
       "    <tr>\n",
       "      <th>256</th>\n",
       "      <td>9ee1c98c</td>\n",
       "      <td>0848ef14a8dc6892</td>\n",
       "      <td>2019-09-06T17:57:57.181Z</td>\n",
       "      <td>{\"size\":3,\"sand\":1,\"duration\":651,\"coordinates...</td>\n",
       "      <td>0001e90f</td>\n",
       "      <td>255</td>\n",
       "      <td>4021</td>\n",
       "      <td>180901</td>\n",
       "      <td>Sandcastle Builder (Activity)</td>\n",
       "      <td>Activity</td>\n",
       "      <td>MAGMAPEAK</td>\n",
       "    </tr>\n",
       "    <tr>\n",
       "      <th>257</th>\n",
       "      <td>5e812b27</td>\n",
       "      <td>0848ef14a8dc6892</td>\n",
       "      <td>2019-09-06T17:57:59.243Z</td>\n",
       "      <td>{\"size\":0,\"coordinates\":{\"x\":782,\"y\":207,\"stag...</td>\n",
       "      <td>0001e90f</td>\n",
       "      <td>256</td>\n",
       "      <td>4030</td>\n",
       "      <td>182951</td>\n",
       "      <td>Sandcastle Builder (Activity)</td>\n",
       "      <td>Activity</td>\n",
       "      <td>MAGMAPEAK</td>\n",
       "    </tr>\n",
       "    <tr>\n",
       "      <th>258</th>\n",
       "      <td>9ee1c98c</td>\n",
       "      <td>0848ef14a8dc6892</td>\n",
       "      <td>2019-09-06T17:58:00.565Z</td>\n",
       "      <td>{\"size\":3,\"sand\":2,\"duration\":950,\"coordinates...</td>\n",
       "      <td>0001e90f</td>\n",
       "      <td>257</td>\n",
       "      <td>4021</td>\n",
       "      <td>184285</td>\n",
       "      <td>Sandcastle Builder (Activity)</td>\n",
       "      <td>Activity</td>\n",
       "      <td>MAGMAPEAK</td>\n",
       "    </tr>\n",
       "    <tr>\n",
       "      <th>259</th>\n",
       "      <td>5e812b27</td>\n",
       "      <td>0848ef14a8dc6892</td>\n",
       "      <td>2019-09-06T17:58:01.561Z</td>\n",
       "      <td>{\"size\":0,\"coordinates\":{\"x\":782,\"y\":207,\"stag...</td>\n",
       "      <td>0001e90f</td>\n",
       "      <td>258</td>\n",
       "      <td>4030</td>\n",
       "      <td>185268</td>\n",
       "      <td>Sandcastle Builder (Activity)</td>\n",
       "      <td>Activity</td>\n",
       "      <td>MAGMAPEAK</td>\n",
       "    </tr>\n",
       "    <tr>\n",
       "      <th>260</th>\n",
       "      <td>b2dba42b</td>\n",
       "      <td>0848ef14a8dc6892</td>\n",
       "      <td>2019-09-06T17:58:02.884Z</td>\n",
       "      <td>{\"description\":\"Great job! You did it!\",\"ident...</td>\n",
       "      <td>0001e90f</td>\n",
       "      <td>259</td>\n",
       "      <td>3010</td>\n",
       "      <td>186602</td>\n",
       "      <td>Sandcastle Builder (Activity)</td>\n",
       "      <td>Activity</td>\n",
       "      <td>MAGMAPEAK</td>\n",
       "    </tr>\n",
       "    <tr>\n",
       "      <th>261</th>\n",
       "      <td>9ee1c98c</td>\n",
       "      <td>0848ef14a8dc6892</td>\n",
       "      <td>2019-09-06T17:58:02.885Z</td>\n",
       "      <td>{\"size\":3,\"sand\":3,\"duration\":950,\"coordinates...</td>\n",
       "      <td>0001e90f</td>\n",
       "      <td>260</td>\n",
       "      <td>4021</td>\n",
       "      <td>186602</td>\n",
       "      <td>Sandcastle Builder (Activity)</td>\n",
       "      <td>Activity</td>\n",
       "      <td>MAGMAPEAK</td>\n",
       "    </tr>\n",
       "    <tr>\n",
       "      <th>262</th>\n",
       "      <td>5e812b27</td>\n",
       "      <td>0848ef14a8dc6892</td>\n",
       "      <td>2019-09-06T17:58:03.411Z</td>\n",
       "      <td>{\"size\":3,\"coordinates\":{\"x\":568,\"y\":587,\"stag...</td>\n",
       "      <td>0001e90f</td>\n",
       "      <td>261</td>\n",
       "      <td>4030</td>\n",
       "      <td>187118</td>\n",
       "      <td>Sandcastle Builder (Activity)</td>\n",
       "      <td>Activity</td>\n",
       "      <td>MAGMAPEAK</td>\n",
       "    </tr>\n",
       "    <tr>\n",
       "      <th>263</th>\n",
       "      <td>1bb5fbdb</td>\n",
       "      <td>0848ef14a8dc6892</td>\n",
       "      <td>2019-09-06T17:58:04.532Z</td>\n",
       "      <td>{\"description\":\"Great job! You did it!\",\"ident...</td>\n",
       "      <td>0001e90f</td>\n",
       "      <td>262</td>\n",
       "      <td>3110</td>\n",
       "      <td>188252</td>\n",
       "      <td>Sandcastle Builder (Activity)</td>\n",
       "      <td>Activity</td>\n",
       "      <td>MAGMAPEAK</td>\n",
       "    </tr>\n",
       "    <tr>\n",
       "      <th>264</th>\n",
       "      <td>84538528</td>\n",
       "      <td>0848ef14a8dc6892</td>\n",
       "      <td>2019-09-06T17:58:05.792Z</td>\n",
       "      <td>{\"size\":3,\"castles_placed\":[{\"size\":2,\"positio...</td>\n",
       "      <td>0001e90f</td>\n",
       "      <td>263</td>\n",
       "      <td>4020</td>\n",
       "      <td>189518</td>\n",
       "      <td>Sandcastle Builder (Activity)</td>\n",
       "      <td>Activity</td>\n",
       "      <td>MAGMAPEAK</td>\n",
       "    </tr>\n",
       "    <tr>\n",
       "      <th>265</th>\n",
       "      <td>b2dba42b</td>\n",
       "      <td>0848ef14a8dc6892</td>\n",
       "      <td>2019-09-06T17:58:05.793Z</td>\n",
       "      <td>{\"description\":\"So cool!\",\"identifier\":\"Dot_So...</td>\n",
       "      <td>0001e90f</td>\n",
       "      <td>264</td>\n",
       "      <td>3010</td>\n",
       "      <td>189518</td>\n",
       "      <td>Sandcastle Builder (Activity)</td>\n",
       "      <td>Activity</td>\n",
       "      <td>MAGMAPEAK</td>\n",
       "    </tr>\n",
       "    <tr>\n",
       "      <th>266</th>\n",
       "      <td>1bb5fbdb</td>\n",
       "      <td>0848ef14a8dc6892</td>\n",
       "      <td>2019-09-06T17:58:07.009Z</td>\n",
       "      <td>{\"description\":\"So cool!\",\"identifier\":\"Dot_So...</td>\n",
       "      <td>0001e90f</td>\n",
       "      <td>265</td>\n",
       "      <td>3110</td>\n",
       "      <td>190735</td>\n",
       "      <td>Sandcastle Builder (Activity)</td>\n",
       "      <td>Activity</td>\n",
       "      <td>MAGMAPEAK</td>\n",
       "    </tr>\n",
       "    <tr>\n",
       "      <th>267</th>\n",
       "      <td>5e812b27</td>\n",
       "      <td>0848ef14a8dc6892</td>\n",
       "      <td>2019-09-06T17:58:07.423Z</td>\n",
       "      <td>{\"size\":0,\"coordinates\":{\"x\":782,\"y\":207,\"stag...</td>\n",
       "      <td>0001e90f</td>\n",
       "      <td>266</td>\n",
       "      <td>4030</td>\n",
       "      <td>191135</td>\n",
       "      <td>Sandcastle Builder (Activity)</td>\n",
       "      <td>Activity</td>\n",
       "      <td>MAGMAPEAK</td>\n",
       "    </tr>\n",
       "    <tr>\n",
       "      <th>268</th>\n",
       "      <td>c58186bf</td>\n",
       "      <td>0848ef14a8dc6892</td>\n",
       "      <td>2019-09-06T17:58:10.609Z</td>\n",
       "      <td>{\"size\":0,\"coordinates\":{\"x\":272,\"y\":733,\"stag...</td>\n",
       "      <td>0001e90f</td>\n",
       "      <td>267</td>\n",
       "      <td>4035</td>\n",
       "      <td>194335</td>\n",
       "      <td>Sandcastle Builder (Activity)</td>\n",
       "      <td>Activity</td>\n",
       "      <td>MAGMAPEAK</td>\n",
       "    </tr>\n",
       "  </tbody>\n",
       "</table>\n",
       "<p>267 rows × 11 columns</p>\n",
       "</div>"
      ],
      "text/plain": [
       "     event_id      game_session                 timestamp  \\\n",
       "2    77261ab5  0848ef14a8dc6892  2019-09-06T17:54:56.302Z   \n",
       "3    b2dba42b  0848ef14a8dc6892  2019-09-06T17:54:56.387Z   \n",
       "4    1bb5fbdb  0848ef14a8dc6892  2019-09-06T17:55:03.253Z   \n",
       "5    1325467d  0848ef14a8dc6892  2019-09-06T17:55:06.279Z   \n",
       "6    1325467d  0848ef14a8dc6892  2019-09-06T17:55:06.913Z   \n",
       "7    1325467d  0848ef14a8dc6892  2019-09-06T17:55:07.546Z   \n",
       "8    1325467d  0848ef14a8dc6892  2019-09-06T17:55:07.979Z   \n",
       "9    1325467d  0848ef14a8dc6892  2019-09-06T17:55:08.566Z   \n",
       "10   1325467d  0848ef14a8dc6892  2019-09-06T17:55:08.966Z   \n",
       "11   1325467d  0848ef14a8dc6892  2019-09-06T17:55:09.673Z   \n",
       "12   1325467d  0848ef14a8dc6892  2019-09-06T17:55:09.930Z   \n",
       "13   1325467d  0848ef14a8dc6892  2019-09-06T17:55:10.157Z   \n",
       "14   1325467d  0848ef14a8dc6892  2019-09-06T17:55:10.414Z   \n",
       "15   1325467d  0848ef14a8dc6892  2019-09-06T17:55:10.648Z   \n",
       "16   1325467d  0848ef14a8dc6892  2019-09-06T17:55:10.911Z   \n",
       "17   1325467d  0848ef14a8dc6892  2019-09-06T17:55:11.178Z   \n",
       "18   b2dba42b  0848ef14a8dc6892  2019-09-06T17:55:11.246Z   \n",
       "19   1325467d  0848ef14a8dc6892  2019-09-06T17:55:11.592Z   \n",
       "20   1325467d  0848ef14a8dc6892  2019-09-06T17:55:11.829Z   \n",
       "21   1325467d  0848ef14a8dc6892  2019-09-06T17:55:12.381Z   \n",
       "22   1325467d  0848ef14a8dc6892  2019-09-06T17:55:12.963Z   \n",
       "23   1bb5fbdb  0848ef14a8dc6892  2019-09-06T17:55:13.335Z   \n",
       "24   1325467d  0848ef14a8dc6892  2019-09-06T17:55:13.582Z   \n",
       "25   1325467d  0848ef14a8dc6892  2019-09-06T17:55:13.782Z   \n",
       "26   1325467d  0848ef14a8dc6892  2019-09-06T17:55:14.138Z   \n",
       "27   1325467d  0848ef14a8dc6892  2019-09-06T17:55:14.380Z   \n",
       "28   1325467d  0848ef14a8dc6892  2019-09-06T17:55:14.555Z   \n",
       "29   1325467d  0848ef14a8dc6892  2019-09-06T17:55:14.864Z   \n",
       "30   b2dba42b  0848ef14a8dc6892  2019-09-06T17:55:15.247Z   \n",
       "31   1325467d  0848ef14a8dc6892  2019-09-06T17:55:16.065Z   \n",
       "..        ...               ...                       ...   \n",
       "239  84538528  0848ef14a8dc6892  2019-09-06T17:57:32.792Z   \n",
       "240  b2dba42b  0848ef14a8dc6892  2019-09-06T17:57:32.792Z   \n",
       "241  1bb5fbdb  0848ef14a8dc6892  2019-09-06T17:57:34.009Z   \n",
       "242  1325467d  0848ef14a8dc6892  2019-09-06T17:57:34.739Z   \n",
       "243  1325467d  0848ef14a8dc6892  2019-09-06T17:57:41.578Z   \n",
       "244  5e812b27  0848ef14a8dc6892  2019-09-06T17:57:42.308Z   \n",
       "245  c58186bf  0848ef14a8dc6892  2019-09-06T17:57:45.994Z   \n",
       "246  5e812b27  0848ef14a8dc6892  2019-09-06T17:57:48.572Z   \n",
       "247  c58186bf  0848ef14a8dc6892  2019-09-06T17:57:49.775Z   \n",
       "248  5e812b27  0848ef14a8dc6892  2019-09-06T17:57:51.358Z   \n",
       "249  1325467d  0848ef14a8dc6892  2019-09-06T17:57:52.138Z   \n",
       "250  c58186bf  0848ef14a8dc6892  2019-09-06T17:57:52.154Z   \n",
       "251  1325467d  0848ef14a8dc6892  2019-09-06T17:57:52.213Z   \n",
       "252  5e812b27  0848ef14a8dc6892  2019-09-06T17:57:53.799Z   \n",
       "253  c58186bf  0848ef14a8dc6892  2019-09-06T17:57:54.460Z   \n",
       "254  1325467d  0848ef14a8dc6892  2019-09-06T17:57:55.325Z   \n",
       "255  5e812b27  0848ef14a8dc6892  2019-09-06T17:57:56.138Z   \n",
       "256  9ee1c98c  0848ef14a8dc6892  2019-09-06T17:57:57.181Z   \n",
       "257  5e812b27  0848ef14a8dc6892  2019-09-06T17:57:59.243Z   \n",
       "258  9ee1c98c  0848ef14a8dc6892  2019-09-06T17:58:00.565Z   \n",
       "259  5e812b27  0848ef14a8dc6892  2019-09-06T17:58:01.561Z   \n",
       "260  b2dba42b  0848ef14a8dc6892  2019-09-06T17:58:02.884Z   \n",
       "261  9ee1c98c  0848ef14a8dc6892  2019-09-06T17:58:02.885Z   \n",
       "262  5e812b27  0848ef14a8dc6892  2019-09-06T17:58:03.411Z   \n",
       "263  1bb5fbdb  0848ef14a8dc6892  2019-09-06T17:58:04.532Z   \n",
       "264  84538528  0848ef14a8dc6892  2019-09-06T17:58:05.792Z   \n",
       "265  b2dba42b  0848ef14a8dc6892  2019-09-06T17:58:05.793Z   \n",
       "266  1bb5fbdb  0848ef14a8dc6892  2019-09-06T17:58:07.009Z   \n",
       "267  5e812b27  0848ef14a8dc6892  2019-09-06T17:58:07.423Z   \n",
       "268  c58186bf  0848ef14a8dc6892  2019-09-06T17:58:10.609Z   \n",
       "\n",
       "                                            event_data installation_id  \\\n",
       "2    {\"version\":\"1.0\",\"event_count\":1,\"game_time\":0...        0001e90f   \n",
       "3    {\"description\":\"Let's build a sandcastle! Firs...        0001e90f   \n",
       "4    {\"description\":\"Let's build a sandcastle! Firs...        0001e90f   \n",
       "5    {\"coordinates\":{\"x\":583,\"y\":605,\"stage_width\":...        0001e90f   \n",
       "6    {\"coordinates\":{\"x\":601,\"y\":570,\"stage_width\":...        0001e90f   \n",
       "7    {\"coordinates\":{\"x\":250,\"y\":665,\"stage_width\":...        0001e90f   \n",
       "8    {\"coordinates\":{\"x\":279,\"y\":629,\"stage_width\":...        0001e90f   \n",
       "9    {\"coordinates\":{\"x\":839,\"y\":654,\"stage_width\":...        0001e90f   \n",
       "10   {\"coordinates\":{\"x\":807,\"y\":619,\"stage_width\":...        0001e90f   \n",
       "11   {\"coordinates\":{\"x\":810,\"y\":611,\"stage_width\":...        0001e90f   \n",
       "12   {\"coordinates\":{\"x\":827,\"y\":584,\"stage_width\":...        0001e90f   \n",
       "13   {\"coordinates\":{\"x\":823,\"y\":615,\"stage_width\":...        0001e90f   \n",
       "14   {\"coordinates\":{\"x\":832,\"y\":614,\"stage_width\":...        0001e90f   \n",
       "15   {\"coordinates\":{\"x\":875,\"y\":631,\"stage_width\":...        0001e90f   \n",
       "16   {\"coordinates\":{\"x\":871,\"y\":637,\"stage_width\":...        0001e90f   \n",
       "17   {\"coordinates\":{\"x\":890,\"y\":645,\"stage_width\":...        0001e90f   \n",
       "18   {\"description\":\"Drag the shovel to the molds t...        0001e90f   \n",
       "19   {\"coordinates\":{\"x\":866,\"y\":650,\"stage_width\":...        0001e90f   \n",
       "20   {\"coordinates\":{\"x\":876,\"y\":670,\"stage_width\":...        0001e90f   \n",
       "21   {\"coordinates\":{\"x\":564,\"y\":576,\"stage_width\":...        0001e90f   \n",
       "22   {\"coordinates\":{\"x\":573,\"y\":570,\"stage_width\":...        0001e90f   \n",
       "23   {\"description\":\"Drag the shovel to the molds t...        0001e90f   \n",
       "24   {\"coordinates\":{\"x\":570,\"y\":542,\"stage_width\":...        0001e90f   \n",
       "25   {\"coordinates\":{\"x\":594,\"y\":532,\"stage_width\":...        0001e90f   \n",
       "26   {\"coordinates\":{\"x\":438,\"y\":594,\"stage_width\":...        0001e90f   \n",
       "27   {\"coordinates\":{\"x\":271,\"y\":645,\"stage_width\":...        0001e90f   \n",
       "28   {\"coordinates\":{\"x\":256,\"y\":637,\"stage_width\":...        0001e90f   \n",
       "29   {\"coordinates\":{\"x\":279,\"y\":614,\"stage_width\":...        0001e90f   \n",
       "30   {\"description\":\"When you're all done, tap this...        0001e90f   \n",
       "31   {\"coordinates\":{\"x\":548,\"y\":575,\"stage_width\":...        0001e90f   \n",
       "..                                                 ...             ...   \n",
       "239  {\"size\":1,\"castles_placed\":[{\"size\":2,\"positio...        0001e90f   \n",
       "240  {\"description\":\"So cool!\",\"identifier\":\"Dot_So...        0001e90f   \n",
       "241  {\"description\":\"So cool!\",\"identifier\":\"Dot_So...        0001e90f   \n",
       "242  {\"coordinates\":{\"x\":249,\"y\":611,\"stage_width\":...        0001e90f   \n",
       "243  {\"coordinates\":{\"x\":878,\"y\":195,\"stage_width\":...        0001e90f   \n",
       "244  {\"size\":0,\"coordinates\":{\"x\":782,\"y\":207,\"stag...        0001e90f   \n",
       "245  {\"size\":0,\"coordinates\":{\"x\":821,\"y\":694,\"stag...        0001e90f   \n",
       "246  {\"size\":0,\"coordinates\":{\"x\":782,\"y\":207,\"stag...        0001e90f   \n",
       "247  {\"size\":0,\"coordinates\":{\"x\":156,\"y\":194,\"stag...        0001e90f   \n",
       "248  {\"size\":0,\"coordinates\":{\"x\":782,\"y\":207,\"stag...        0001e90f   \n",
       "249  {\"coordinates\":{\"x\":440,\"y\":396,\"stage_width\":...        0001e90f   \n",
       "250  {\"size\":0,\"coordinates\":{\"x\":111,\"y\":305,\"stag...        0001e90f   \n",
       "251  {\"coordinates\":{\"x\":426,\"y\":381,\"stage_width\":...        0001e90f   \n",
       "252  {\"size\":0,\"coordinates\":{\"x\":782,\"y\":207,\"stag...        0001e90f   \n",
       "253  {\"size\":0,\"coordinates\":{\"x\":764,\"y\":126,\"stag...        0001e90f   \n",
       "254  {\"coordinates\":{\"x\":869,\"y\":167,\"stage_width\":...        0001e90f   \n",
       "255  {\"size\":0,\"coordinates\":{\"x\":782,\"y\":207,\"stag...        0001e90f   \n",
       "256  {\"size\":3,\"sand\":1,\"duration\":651,\"coordinates...        0001e90f   \n",
       "257  {\"size\":0,\"coordinates\":{\"x\":782,\"y\":207,\"stag...        0001e90f   \n",
       "258  {\"size\":3,\"sand\":2,\"duration\":950,\"coordinates...        0001e90f   \n",
       "259  {\"size\":0,\"coordinates\":{\"x\":782,\"y\":207,\"stag...        0001e90f   \n",
       "260  {\"description\":\"Great job! You did it!\",\"ident...        0001e90f   \n",
       "261  {\"size\":3,\"sand\":3,\"duration\":950,\"coordinates...        0001e90f   \n",
       "262  {\"size\":3,\"coordinates\":{\"x\":568,\"y\":587,\"stag...        0001e90f   \n",
       "263  {\"description\":\"Great job! You did it!\",\"ident...        0001e90f   \n",
       "264  {\"size\":3,\"castles_placed\":[{\"size\":2,\"positio...        0001e90f   \n",
       "265  {\"description\":\"So cool!\",\"identifier\":\"Dot_So...        0001e90f   \n",
       "266  {\"description\":\"So cool!\",\"identifier\":\"Dot_So...        0001e90f   \n",
       "267  {\"size\":0,\"coordinates\":{\"x\":782,\"y\":207,\"stag...        0001e90f   \n",
       "268  {\"size\":0,\"coordinates\":{\"x\":272,\"y\":733,\"stag...        0001e90f   \n",
       "\n",
       "     event_count  event_code  game_time                          title  \\\n",
       "2              1        2000          0  Sandcastle Builder (Activity)   \n",
       "3              2        3010         53  Sandcastle Builder (Activity)   \n",
       "4              3        3110       6972  Sandcastle Builder (Activity)   \n",
       "5              4        4070       9991  Sandcastle Builder (Activity)   \n",
       "6              5        4070      10622  Sandcastle Builder (Activity)   \n",
       "7              6        4070      11255  Sandcastle Builder (Activity)   \n",
       "8              7        4070      11689  Sandcastle Builder (Activity)   \n",
       "9              8        4070      12272  Sandcastle Builder (Activity)   \n",
       "10             9        4070      12672  Sandcastle Builder (Activity)   \n",
       "11            10        4070      13389  Sandcastle Builder (Activity)   \n",
       "12            11        4070      13639  Sandcastle Builder (Activity)   \n",
       "13            12        4070      13872  Sandcastle Builder (Activity)   \n",
       "14            13        4070      14122  Sandcastle Builder (Activity)   \n",
       "15            14        4070      14356  Sandcastle Builder (Activity)   \n",
       "16            15        4070      14622  Sandcastle Builder (Activity)   \n",
       "17            16        4070      14889  Sandcastle Builder (Activity)   \n",
       "18            17        3010      14956  Sandcastle Builder (Activity)   \n",
       "19            18        4070      15306  Sandcastle Builder (Activity)   \n",
       "20            19        4070      15539  Sandcastle Builder (Activity)   \n",
       "21            20        4070      16089  Sandcastle Builder (Activity)   \n",
       "22            21        4070      16672  Sandcastle Builder (Activity)   \n",
       "23            22        3110      17056  Sandcastle Builder (Activity)   \n",
       "24            23        4070      17289  Sandcastle Builder (Activity)   \n",
       "25            24        4070      17489  Sandcastle Builder (Activity)   \n",
       "26            25        4070      17839  Sandcastle Builder (Activity)   \n",
       "27            26        4070      18093  Sandcastle Builder (Activity)   \n",
       "28            27        4070      18273  Sandcastle Builder (Activity)   \n",
       "29            28        4070      18573  Sandcastle Builder (Activity)   \n",
       "30            29        3010      18956  Sandcastle Builder (Activity)   \n",
       "31            30        4070      19773  Sandcastle Builder (Activity)   \n",
       "..           ...         ...        ...                            ...   \n",
       "239          238        4020     156516  Sandcastle Builder (Activity)   \n",
       "240          239        3010     156516  Sandcastle Builder (Activity)   \n",
       "241          240        3110     157733  Sandcastle Builder (Activity)   \n",
       "242          241        4070     158449  Sandcastle Builder (Activity)   \n",
       "243          242        4070     165284  Sandcastle Builder (Activity)   \n",
       "244          243        4030     166017  Sandcastle Builder (Activity)   \n",
       "245          244        4035     169717  Sandcastle Builder (Activity)   \n",
       "246          245        4030     172284  Sandcastle Builder (Activity)   \n",
       "247          246        4035     173501  Sandcastle Builder (Activity)   \n",
       "248          247        4030     175067  Sandcastle Builder (Activity)   \n",
       "249          248        4070     175851  Sandcastle Builder (Activity)   \n",
       "250          249        4035     175882  Sandcastle Builder (Activity)   \n",
       "251          250        4070     175934  Sandcastle Builder (Activity)   \n",
       "252          251        4030     177501  Sandcastle Builder (Activity)   \n",
       "253          252        4035     178184  Sandcastle Builder (Activity)   \n",
       "254          253        4070     179034  Sandcastle Builder (Activity)   \n",
       "255          254        4030     179851  Sandcastle Builder (Activity)   \n",
       "256          255        4021     180901  Sandcastle Builder (Activity)   \n",
       "257          256        4030     182951  Sandcastle Builder (Activity)   \n",
       "258          257        4021     184285  Sandcastle Builder (Activity)   \n",
       "259          258        4030     185268  Sandcastle Builder (Activity)   \n",
       "260          259        3010     186602  Sandcastle Builder (Activity)   \n",
       "261          260        4021     186602  Sandcastle Builder (Activity)   \n",
       "262          261        4030     187118  Sandcastle Builder (Activity)   \n",
       "263          262        3110     188252  Sandcastle Builder (Activity)   \n",
       "264          263        4020     189518  Sandcastle Builder (Activity)   \n",
       "265          264        3010     189518  Sandcastle Builder (Activity)   \n",
       "266          265        3110     190735  Sandcastle Builder (Activity)   \n",
       "267          266        4030     191135  Sandcastle Builder (Activity)   \n",
       "268          267        4035     194335  Sandcastle Builder (Activity)   \n",
       "\n",
       "         type      world  \n",
       "2    Activity  MAGMAPEAK  \n",
       "3    Activity  MAGMAPEAK  \n",
       "4    Activity  MAGMAPEAK  \n",
       "5    Activity  MAGMAPEAK  \n",
       "6    Activity  MAGMAPEAK  \n",
       "7    Activity  MAGMAPEAK  \n",
       "8    Activity  MAGMAPEAK  \n",
       "9    Activity  MAGMAPEAK  \n",
       "10   Activity  MAGMAPEAK  \n",
       "11   Activity  MAGMAPEAK  \n",
       "12   Activity  MAGMAPEAK  \n",
       "13   Activity  MAGMAPEAK  \n",
       "14   Activity  MAGMAPEAK  \n",
       "15   Activity  MAGMAPEAK  \n",
       "16   Activity  MAGMAPEAK  \n",
       "17   Activity  MAGMAPEAK  \n",
       "18   Activity  MAGMAPEAK  \n",
       "19   Activity  MAGMAPEAK  \n",
       "20   Activity  MAGMAPEAK  \n",
       "21   Activity  MAGMAPEAK  \n",
       "22   Activity  MAGMAPEAK  \n",
       "23   Activity  MAGMAPEAK  \n",
       "24   Activity  MAGMAPEAK  \n",
       "25   Activity  MAGMAPEAK  \n",
       "26   Activity  MAGMAPEAK  \n",
       "27   Activity  MAGMAPEAK  \n",
       "28   Activity  MAGMAPEAK  \n",
       "29   Activity  MAGMAPEAK  \n",
       "30   Activity  MAGMAPEAK  \n",
       "31   Activity  MAGMAPEAK  \n",
       "..        ...        ...  \n",
       "239  Activity  MAGMAPEAK  \n",
       "240  Activity  MAGMAPEAK  \n",
       "241  Activity  MAGMAPEAK  \n",
       "242  Activity  MAGMAPEAK  \n",
       "243  Activity  MAGMAPEAK  \n",
       "244  Activity  MAGMAPEAK  \n",
       "245  Activity  MAGMAPEAK  \n",
       "246  Activity  MAGMAPEAK  \n",
       "247  Activity  MAGMAPEAK  \n",
       "248  Activity  MAGMAPEAK  \n",
       "249  Activity  MAGMAPEAK  \n",
       "250  Activity  MAGMAPEAK  \n",
       "251  Activity  MAGMAPEAK  \n",
       "252  Activity  MAGMAPEAK  \n",
       "253  Activity  MAGMAPEAK  \n",
       "254  Activity  MAGMAPEAK  \n",
       "255  Activity  MAGMAPEAK  \n",
       "256  Activity  MAGMAPEAK  \n",
       "257  Activity  MAGMAPEAK  \n",
       "258  Activity  MAGMAPEAK  \n",
       "259  Activity  MAGMAPEAK  \n",
       "260  Activity  MAGMAPEAK  \n",
       "261  Activity  MAGMAPEAK  \n",
       "262  Activity  MAGMAPEAK  \n",
       "263  Activity  MAGMAPEAK  \n",
       "264  Activity  MAGMAPEAK  \n",
       "265  Activity  MAGMAPEAK  \n",
       "266  Activity  MAGMAPEAK  \n",
       "267  Activity  MAGMAPEAK  \n",
       "268  Activity  MAGMAPEAK  \n",
       "\n",
       "[267 rows x 11 columns]"
      ]
     },
     "execution_count": 62,
     "metadata": {},
     "output_type": "execute_result"
    }
   ],
   "source": [
    "train_df.query('game_session == \"0848ef14a8dc6892\"')"
   ]
  },
  {
   "cell_type": "markdown",
   "metadata": {},
   "source": [
    "## train labels\n"
   ]
  },
  {
   "cell_type": "code",
   "execution_count": 18,
   "metadata": {},
   "outputs": [
    {
     "data": {
      "text/html": [
       "<div>\n",
       "<style scoped>\n",
       "    .dataframe tbody tr th:only-of-type {\n",
       "        vertical-align: middle;\n",
       "    }\n",
       "\n",
       "    .dataframe tbody tr th {\n",
       "        vertical-align: top;\n",
       "    }\n",
       "\n",
       "    .dataframe thead th {\n",
       "        text-align: right;\n",
       "    }\n",
       "</style>\n",
       "<table border=\"1\" class=\"dataframe\">\n",
       "  <thead>\n",
       "    <tr style=\"text-align: right;\">\n",
       "      <th></th>\n",
       "      <th>game_session</th>\n",
       "      <th>installation_id</th>\n",
       "      <th>title</th>\n",
       "      <th>num_correct</th>\n",
       "      <th>num_incorrect</th>\n",
       "      <th>accuracy</th>\n",
       "      <th>accuracy_group</th>\n",
       "    </tr>\n",
       "  </thead>\n",
       "  <tbody>\n",
       "    <tr>\n",
       "      <th>0</th>\n",
       "      <td>6bdf9623adc94d89</td>\n",
       "      <td>0006a69f</td>\n",
       "      <td>Mushroom Sorter (Assessment)</td>\n",
       "      <td>1</td>\n",
       "      <td>0</td>\n",
       "      <td>1.0</td>\n",
       "      <td>3</td>\n",
       "    </tr>\n",
       "    <tr>\n",
       "      <th>1</th>\n",
       "      <td>77b8ee947eb84b4e</td>\n",
       "      <td>0006a69f</td>\n",
       "      <td>Bird Measurer (Assessment)</td>\n",
       "      <td>0</td>\n",
       "      <td>11</td>\n",
       "      <td>0.0</td>\n",
       "      <td>0</td>\n",
       "    </tr>\n",
       "    <tr>\n",
       "      <th>2</th>\n",
       "      <td>901acc108f55a5a1</td>\n",
       "      <td>0006a69f</td>\n",
       "      <td>Mushroom Sorter (Assessment)</td>\n",
       "      <td>1</td>\n",
       "      <td>0</td>\n",
       "      <td>1.0</td>\n",
       "      <td>3</td>\n",
       "    </tr>\n",
       "    <tr>\n",
       "      <th>3</th>\n",
       "      <td>9501794defd84e4d</td>\n",
       "      <td>0006a69f</td>\n",
       "      <td>Mushroom Sorter (Assessment)</td>\n",
       "      <td>1</td>\n",
       "      <td>1</td>\n",
       "      <td>0.5</td>\n",
       "      <td>2</td>\n",
       "    </tr>\n",
       "    <tr>\n",
       "      <th>4</th>\n",
       "      <td>a9ef3ecb3d1acc6a</td>\n",
       "      <td>0006a69f</td>\n",
       "      <td>Bird Measurer (Assessment)</td>\n",
       "      <td>1</td>\n",
       "      <td>0</td>\n",
       "      <td>1.0</td>\n",
       "      <td>3</td>\n",
       "    </tr>\n",
       "  </tbody>\n",
       "</table>\n",
       "</div>"
      ],
      "text/plain": [
       "       game_session installation_id                         title  \\\n",
       "0  6bdf9623adc94d89        0006a69f  Mushroom Sorter (Assessment)   \n",
       "1  77b8ee947eb84b4e        0006a69f    Bird Measurer (Assessment)   \n",
       "2  901acc108f55a5a1        0006a69f  Mushroom Sorter (Assessment)   \n",
       "3  9501794defd84e4d        0006a69f  Mushroom Sorter (Assessment)   \n",
       "4  a9ef3ecb3d1acc6a        0006a69f    Bird Measurer (Assessment)   \n",
       "\n",
       "   num_correct  num_incorrect  accuracy  accuracy_group  \n",
       "0            1              0       1.0               3  \n",
       "1            0             11       0.0               0  \n",
       "2            1              0       1.0               3  \n",
       "3            1              1       0.5               2  \n",
       "4            1              0       1.0               3  "
      ]
     },
     "execution_count": 18,
     "metadata": {},
     "output_type": "execute_result"
    }
   ],
   "source": [
    "train_labels_df.head()"
   ]
  },
  {
   "cell_type": "code",
   "execution_count": 66,
   "metadata": {},
   "outputs": [
    {
     "data": {
      "text/plain": [
       "(17690, 7)"
      ]
     },
     "execution_count": 66,
     "metadata": {},
     "output_type": "execute_result"
    }
   ],
   "source": [
    "train_labels_df.shape"
   ]
  },
  {
   "cell_type": "code",
   "execution_count": 65,
   "metadata": {},
   "outputs": [
    {
     "data": {
      "text/plain": [
       "17690"
      ]
     },
     "execution_count": 65,
     "metadata": {},
     "output_type": "execute_result"
    }
   ],
   "source": [
    "train_labels_df.game_session.nunique()"
   ]
  },
  {
   "cell_type": "code",
   "execution_count": 67,
   "metadata": {},
   "outputs": [
    {
     "data": {
      "text/plain": [
       "3614"
      ]
     },
     "execution_count": 67,
     "metadata": {},
     "output_type": "execute_result"
    }
   ],
   "source": [
    "train_labels_df.installation_id.nunique()"
   ]
  },
  {
   "cell_type": "code",
   "execution_count": 63,
   "metadata": {},
   "outputs": [
    {
     "data": {
      "text/html": [
       "<div>\n",
       "<style scoped>\n",
       "    .dataframe tbody tr th:only-of-type {\n",
       "        vertical-align: middle;\n",
       "    }\n",
       "\n",
       "    .dataframe tbody tr th {\n",
       "        vertical-align: top;\n",
       "    }\n",
       "\n",
       "    .dataframe thead th {\n",
       "        text-align: right;\n",
       "    }\n",
       "</style>\n",
       "<table border=\"1\" class=\"dataframe\">\n",
       "  <thead>\n",
       "    <tr style=\"text-align: right;\">\n",
       "      <th></th>\n",
       "      <th>game_session</th>\n",
       "      <th>installation_id</th>\n",
       "      <th>title</th>\n",
       "      <th>num_correct</th>\n",
       "      <th>num_incorrect</th>\n",
       "      <th>accuracy</th>\n",
       "      <th>accuracy_group</th>\n",
       "    </tr>\n",
       "  </thead>\n",
       "  <tbody>\n",
       "  </tbody>\n",
       "</table>\n",
       "</div>"
      ],
      "text/plain": [
       "Empty DataFrame\n",
       "Columns: [game_session, installation_id, title, num_correct, num_incorrect, accuracy, accuracy_group]\n",
       "Index: []"
      ]
     },
     "execution_count": 63,
     "metadata": {},
     "output_type": "execute_result"
    }
   ],
   "source": [
    "train_labels_df.query('game_session == \"0848ef14a8dc6892\"')"
   ]
  },
  {
   "cell_type": "markdown",
   "metadata": {},
   "source": [
    "## test"
   ]
  },
  {
   "cell_type": "code",
   "execution_count": 19,
   "metadata": {},
   "outputs": [
    {
     "data": {
      "text/html": [
       "<div>\n",
       "<style scoped>\n",
       "    .dataframe tbody tr th:only-of-type {\n",
       "        vertical-align: middle;\n",
       "    }\n",
       "\n",
       "    .dataframe tbody tr th {\n",
       "        vertical-align: top;\n",
       "    }\n",
       "\n",
       "    .dataframe thead th {\n",
       "        text-align: right;\n",
       "    }\n",
       "</style>\n",
       "<table border=\"1\" class=\"dataframe\">\n",
       "  <thead>\n",
       "    <tr style=\"text-align: right;\">\n",
       "      <th></th>\n",
       "      <th>event_id</th>\n",
       "      <th>game_session</th>\n",
       "      <th>timestamp</th>\n",
       "      <th>event_data</th>\n",
       "      <th>installation_id</th>\n",
       "      <th>event_count</th>\n",
       "      <th>event_code</th>\n",
       "      <th>game_time</th>\n",
       "      <th>title</th>\n",
       "      <th>type</th>\n",
       "      <th>world</th>\n",
       "    </tr>\n",
       "  </thead>\n",
       "  <tbody>\n",
       "    <tr>\n",
       "      <th>0</th>\n",
       "      <td>27253bdc</td>\n",
       "      <td>0ea9ecc81a565215</td>\n",
       "      <td>2019-09-10T16:50:24.910Z</td>\n",
       "      <td>{\"event_code\": 2000, \"event_count\": 1}</td>\n",
       "      <td>00abaee7</td>\n",
       "      <td>1</td>\n",
       "      <td>2000</td>\n",
       "      <td>0</td>\n",
       "      <td>Welcome to Lost Lagoon!</td>\n",
       "      <td>Clip</td>\n",
       "      <td>NONE</td>\n",
       "    </tr>\n",
       "    <tr>\n",
       "      <th>1</th>\n",
       "      <td>27253bdc</td>\n",
       "      <td>c1ea43d8b8261d27</td>\n",
       "      <td>2019-09-10T16:50:55.503Z</td>\n",
       "      <td>{\"event_code\": 2000, \"event_count\": 1}</td>\n",
       "      <td>00abaee7</td>\n",
       "      <td>1</td>\n",
       "      <td>2000</td>\n",
       "      <td>0</td>\n",
       "      <td>Magma Peak - Level 1</td>\n",
       "      <td>Clip</td>\n",
       "      <td>MAGMAPEAK</td>\n",
       "    </tr>\n",
       "    <tr>\n",
       "      <th>2</th>\n",
       "      <td>27253bdc</td>\n",
       "      <td>7ed86c6b72e725e2</td>\n",
       "      <td>2019-09-10T16:51:51.805Z</td>\n",
       "      <td>{\"event_code\": 2000, \"event_count\": 1}</td>\n",
       "      <td>00abaee7</td>\n",
       "      <td>1</td>\n",
       "      <td>2000</td>\n",
       "      <td>0</td>\n",
       "      <td>Magma Peak - Level 2</td>\n",
       "      <td>Clip</td>\n",
       "      <td>MAGMAPEAK</td>\n",
       "    </tr>\n",
       "    <tr>\n",
       "      <th>3</th>\n",
       "      <td>27253bdc</td>\n",
       "      <td>7e516ace50e7fe67</td>\n",
       "      <td>2019-09-10T16:53:12.825Z</td>\n",
       "      <td>{\"event_code\": 2000, \"event_count\": 1}</td>\n",
       "      <td>00abaee7</td>\n",
       "      <td>1</td>\n",
       "      <td>2000</td>\n",
       "      <td>0</td>\n",
       "      <td>Crystal Caves - Level 1</td>\n",
       "      <td>Clip</td>\n",
       "      <td>CRYSTALCAVES</td>\n",
       "    </tr>\n",
       "    <tr>\n",
       "      <th>4</th>\n",
       "      <td>7d093bf9</td>\n",
       "      <td>a022c3f60ba547e7</td>\n",
       "      <td>2019-09-10T16:54:12.115Z</td>\n",
       "      <td>{\"version\":\"1.0\",\"round\":0,\"event_count\":1,\"ga...</td>\n",
       "      <td>00abaee7</td>\n",
       "      <td>1</td>\n",
       "      <td>2000</td>\n",
       "      <td>0</td>\n",
       "      <td>Chow Time</td>\n",
       "      <td>Game</td>\n",
       "      <td>CRYSTALCAVES</td>\n",
       "    </tr>\n",
       "  </tbody>\n",
       "</table>\n",
       "</div>"
      ],
      "text/plain": [
       "   event_id      game_session                 timestamp  \\\n",
       "0  27253bdc  0ea9ecc81a565215  2019-09-10T16:50:24.910Z   \n",
       "1  27253bdc  c1ea43d8b8261d27  2019-09-10T16:50:55.503Z   \n",
       "2  27253bdc  7ed86c6b72e725e2  2019-09-10T16:51:51.805Z   \n",
       "3  27253bdc  7e516ace50e7fe67  2019-09-10T16:53:12.825Z   \n",
       "4  7d093bf9  a022c3f60ba547e7  2019-09-10T16:54:12.115Z   \n",
       "\n",
       "                                          event_data installation_id  \\\n",
       "0             {\"event_code\": 2000, \"event_count\": 1}        00abaee7   \n",
       "1             {\"event_code\": 2000, \"event_count\": 1}        00abaee7   \n",
       "2             {\"event_code\": 2000, \"event_count\": 1}        00abaee7   \n",
       "3             {\"event_code\": 2000, \"event_count\": 1}        00abaee7   \n",
       "4  {\"version\":\"1.0\",\"round\":0,\"event_count\":1,\"ga...        00abaee7   \n",
       "\n",
       "   event_count  event_code  game_time                    title  type  \\\n",
       "0            1        2000          0  Welcome to Lost Lagoon!  Clip   \n",
       "1            1        2000          0     Magma Peak - Level 1  Clip   \n",
       "2            1        2000          0     Magma Peak - Level 2  Clip   \n",
       "3            1        2000          0  Crystal Caves - Level 1  Clip   \n",
       "4            1        2000          0                Chow Time  Game   \n",
       "\n",
       "          world  \n",
       "0          NONE  \n",
       "1     MAGMAPEAK  \n",
       "2     MAGMAPEAK  \n",
       "3  CRYSTALCAVES  \n",
       "4  CRYSTALCAVES  "
      ]
     },
     "execution_count": 19,
     "metadata": {},
     "output_type": "execute_result"
    }
   ],
   "source": [
    "test_df.head()"
   ]
  },
  {
   "cell_type": "code",
   "execution_count": 23,
   "metadata": {},
   "outputs": [
    {
     "data": {
      "text/plain": [
       "(1156414, 11)"
      ]
     },
     "execution_count": 23,
     "metadata": {},
     "output_type": "execute_result"
    }
   ],
   "source": [
    "test_df.shape"
   ]
  },
  {
   "cell_type": "code",
   "execution_count": 68,
   "metadata": {},
   "outputs": [
    {
     "data": {
      "text/plain": [
       "365"
      ]
     },
     "execution_count": 68,
     "metadata": {},
     "output_type": "execute_result"
    }
   ],
   "source": [
    "test_df.event_id.nunique()"
   ]
  },
  {
   "cell_type": "code",
   "execution_count": 69,
   "metadata": {},
   "outputs": [
    {
     "data": {
      "text/plain": [
       "28445"
      ]
     },
     "execution_count": 69,
     "metadata": {},
     "output_type": "execute_result"
    }
   ],
   "source": [
    "test_df.game_session.nunique()"
   ]
  },
  {
   "cell_type": "code",
   "execution_count": 73,
   "metadata": {},
   "outputs": [
    {
     "data": {
      "text/plain": [
       "1000"
      ]
     },
     "execution_count": 73,
     "metadata": {},
     "output_type": "execute_result"
    }
   ],
   "source": [
    "test_df.installation_id.nunique()"
   ]
  },
  {
   "cell_type": "code",
   "execution_count": 83,
   "metadata": {},
   "outputs": [
    {
     "data": {
      "text/plain": [
       "array(['Welcome to Lost Lagoon!', 'Magma Peak - Level 1',\n",
       "       'Magma Peak - Level 2', 'Crystal Caves - Level 1', 'Chow Time',\n",
       "       'Balancing Act', 'Crystal Caves - Level 2',\n",
       "       'Tree Top City - Level 1', 'All Star Sorting', 'Costume Box',\n",
       "       'Fireworks (Activity)', '12 Monkeys', 'Lifting Heavy Things',\n",
       "       'Cart Balancer (Assessment)', 'Crystal Caves - Level 3',\n",
       "       'Egg Dropper (Activity)', 'Bug Measurer (Activity)',\n",
       "       'Sandcastle Builder (Activity)', 'Dino Dive',\n",
       "       'Cauldron Filler (Assessment)', 'Scrub-A-Dub',\n",
       "       'Watering Hole (Activity)', 'Dino Drink', 'Bubble Bath',\n",
       "       'Bottle Filler (Activity)', 'Chicken Balancer (Activity)',\n",
       "       'Honey Cake', 'Happy Camel', 'Leaf Leader',\n",
       "       'Heavy, Heavier, Heaviest', 'Pan Balance',\n",
       "       'Chest Sorter (Assessment)', 'Ordering Spheres',\n",
       "       'Tree Top City - Level 2', 'Flower Waterer (Activity)',\n",
       "       \"Pirate's Tale\", 'Mushroom Sorter (Assessment)', 'Air Show',\n",
       "       'Treasure Map', 'Tree Top City - Level 3', 'Crystals Rule',\n",
       "       'Rulers', 'Bird Measurer (Assessment)', 'Slop Problem'],\n",
       "      dtype=object)"
      ]
     },
     "execution_count": 83,
     "metadata": {},
     "output_type": "execute_result"
    }
   ],
   "source": [
    "test_df.title.unique()"
   ]
  },
  {
   "cell_type": "code",
   "execution_count": 90,
   "metadata": {},
   "outputs": [
    {
     "data": {
      "text/plain": [
       "7020"
      ]
     },
     "execution_count": 90,
     "metadata": {},
     "output_type": "execute_result"
    }
   ],
   "source": [
    "len(test_df.query('~(title==\"Bird Measurer (Assessment)\") & event_code==4100'))"
   ]
  },
  {
   "cell_type": "code",
   "execution_count": 87,
   "metadata": {},
   "outputs": [
    {
     "data": {
      "text/plain": [
       "1103"
      ]
     },
     "execution_count": 87,
     "metadata": {},
     "output_type": "execute_result"
    }
   ],
   "source": [
    "len(test_df.query('title==\"Bird Measurer (Assessment)\" & event_code==4110'))"
   ]
  },
  {
   "cell_type": "code",
   "execution_count": 76,
   "metadata": {},
   "outputs": [
    {
     "data": {
      "text/html": [
       "<div>\n",
       "<style scoped>\n",
       "    .dataframe tbody tr th:only-of-type {\n",
       "        vertical-align: middle;\n",
       "    }\n",
       "\n",
       "    .dataframe tbody tr th {\n",
       "        vertical-align: top;\n",
       "    }\n",
       "\n",
       "    .dataframe thead th {\n",
       "        text-align: right;\n",
       "    }\n",
       "</style>\n",
       "<table border=\"1\" class=\"dataframe\">\n",
       "  <thead>\n",
       "    <tr style=\"text-align: right;\">\n",
       "      <th></th>\n",
       "      <th>event_id</th>\n",
       "      <th>game_session</th>\n",
       "      <th>timestamp</th>\n",
       "      <th>event_data</th>\n",
       "      <th>installation_id</th>\n",
       "      <th>event_count</th>\n",
       "      <th>event_code</th>\n",
       "      <th>game_time</th>\n",
       "      <th>title</th>\n",
       "      <th>type</th>\n",
       "      <th>world</th>\n",
       "    </tr>\n",
       "  </thead>\n",
       "  <tbody>\n",
       "    <tr>\n",
       "      <th>303</th>\n",
       "      <td>d122731b</td>\n",
       "      <td>8b38fc0d2fd315dc</td>\n",
       "      <td>2019-09-11T18:56:34.661Z</td>\n",
       "      <td>{\"correct\":true,\"left\":[{\"id\":\"gem07\",\"weight\"...</td>\n",
       "      <td>00abaee7</td>\n",
       "      <td>22</td>\n",
       "      <td>4100</td>\n",
       "      <td>22737</td>\n",
       "      <td>Cart Balancer (Assessment)</td>\n",
       "      <td>Assessment</td>\n",
       "      <td>CRYSTALCAVES</td>\n",
       "    </tr>\n",
       "  </tbody>\n",
       "</table>\n",
       "</div>"
      ],
      "text/plain": [
       "     event_id      game_session                 timestamp  \\\n",
       "303  d122731b  8b38fc0d2fd315dc  2019-09-11T18:56:34.661Z   \n",
       "\n",
       "                                            event_data installation_id  \\\n",
       "303  {\"correct\":true,\"left\":[{\"id\":\"gem07\",\"weight\"...        00abaee7   \n",
       "\n",
       "     event_count  event_code  game_time                       title  \\\n",
       "303           22        4100      22737  Cart Balancer (Assessment)   \n",
       "\n",
       "           type         world  \n",
       "303  Assessment  CRYSTALCAVES  "
      ]
     },
     "execution_count": 76,
     "metadata": {},
     "output_type": "execute_result"
    }
   ],
   "source": [
    "test_df.query('installation_id == \"00abaee7\" & event_code==4100')"
   ]
  },
  {
   "cell_type": "markdown",
   "metadata": {},
   "source": [
    "## sample submission"
   ]
  },
  {
   "cell_type": "code",
   "execution_count": 20,
   "metadata": {},
   "outputs": [],
   "source": [
    "sample_submission = pd.read_csv(DATA_DIR / 'sample_submission.csv')"
   ]
  },
  {
   "cell_type": "code",
   "execution_count": 21,
   "metadata": {},
   "outputs": [
    {
     "data": {
      "text/html": [
       "<div>\n",
       "<style scoped>\n",
       "    .dataframe tbody tr th:only-of-type {\n",
       "        vertical-align: middle;\n",
       "    }\n",
       "\n",
       "    .dataframe tbody tr th {\n",
       "        vertical-align: top;\n",
       "    }\n",
       "\n",
       "    .dataframe thead th {\n",
       "        text-align: right;\n",
       "    }\n",
       "</style>\n",
       "<table border=\"1\" class=\"dataframe\">\n",
       "  <thead>\n",
       "    <tr style=\"text-align: right;\">\n",
       "      <th></th>\n",
       "      <th>installation_id</th>\n",
       "      <th>accuracy_group</th>\n",
       "    </tr>\n",
       "  </thead>\n",
       "  <tbody>\n",
       "    <tr>\n",
       "      <th>0</th>\n",
       "      <td>00abaee7</td>\n",
       "      <td>3</td>\n",
       "    </tr>\n",
       "    <tr>\n",
       "      <th>1</th>\n",
       "      <td>01242218</td>\n",
       "      <td>3</td>\n",
       "    </tr>\n",
       "    <tr>\n",
       "      <th>2</th>\n",
       "      <td>017c5718</td>\n",
       "      <td>3</td>\n",
       "    </tr>\n",
       "    <tr>\n",
       "      <th>3</th>\n",
       "      <td>01a44906</td>\n",
       "      <td>3</td>\n",
       "    </tr>\n",
       "    <tr>\n",
       "      <th>4</th>\n",
       "      <td>01bc6cb6</td>\n",
       "      <td>3</td>\n",
       "    </tr>\n",
       "  </tbody>\n",
       "</table>\n",
       "</div>"
      ],
      "text/plain": [
       "  installation_id  accuracy_group\n",
       "0        00abaee7               3\n",
       "1        01242218               3\n",
       "2        017c5718               3\n",
       "3        01a44906               3\n",
       "4        01bc6cb6               3"
      ]
     },
     "execution_count": 21,
     "metadata": {},
     "output_type": "execute_result"
    }
   ],
   "source": [
    "sample_submission.head()"
   ]
  },
  {
   "cell_type": "code",
   "execution_count": 22,
   "metadata": {},
   "outputs": [
    {
     "data": {
      "text/plain": [
       "(1000, 2)"
      ]
     },
     "execution_count": 22,
     "metadata": {},
     "output_type": "execute_result"
    }
   ],
   "source": [
    "sample_submission.shape"
   ]
  },
  {
   "cell_type": "code",
   "execution_count": null,
   "metadata": {},
   "outputs": [],
   "source": []
  }
 ],
 "metadata": {
  "kernelspec": {
   "display_name": "Python 3",
   "language": "python",
   "name": "python3"
  },
  "language_info": {
   "codemirror_mode": {
    "name": "ipython",
    "version": 3
   },
   "file_extension": ".py",
   "mimetype": "text/x-python",
   "name": "python",
   "nbconvert_exporter": "python",
   "pygments_lexer": "ipython3",
   "version": "3.7.3"
  }
 },
 "nbformat": 4,
 "nbformat_minor": 2
}
